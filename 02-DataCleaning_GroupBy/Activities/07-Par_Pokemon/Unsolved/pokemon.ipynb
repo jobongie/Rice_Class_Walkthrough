{
 "cells": [
  {
   "cell_type": "markdown",
   "metadata": {},
   "source": [
    "# Building a Pokèdex\n",
    "\n",
    "### Instructions\n",
    "\n",
    "* Read the Pokemon CSV file with Pandas.\n",
    "\n",
    "* Create a new table by extracting the following columns: \"Type 1\", \"HP\", \"Attack\", \"Sp. Atk\", \"Sp. Def\", and \"Speed\".\n",
    "\n",
    "* Find the average stats for each type of Pokemon.\n",
    "\n",
    "* Create a new DataFrame out of the averages.\n",
    "\n",
    "* Calculate the total power level of each type of Pokemon by summing all of the previous stats together and place the results into a new column."
   ]
  },
  {
   "cell_type": "markdown",
   "metadata": {},
   "source": [
    "#### Import Dependencies"
   ]
  },
  {
   "cell_type": "code",
   "execution_count": 1,
   "metadata": {},
   "outputs": [],
   "source": [
    "import pandas as pd\n",
    "import os"
   ]
  },
  {
   "cell_type": "markdown",
   "metadata": {},
   "source": [
    "#### Load the provided data file from the *Resources* folder"
   ]
  },
  {
   "cell_type": "code",
   "execution_count": null,
   "metadata": {},
   "outputs": [],
   "source": []
  },
  {
   "cell_type": "markdown",
   "metadata": {},
   "source": [
    "#### Create a new DataFrame from your existing one with these columns: _\"Type 1\"_, _\"HP\"_, _\"Attack\"_, _\"Sp. Atk\"_, _\"Sp. Def\"_, _\"Speed\"_\n",
    "\n",
    "Remember to provide the columns that you want as a list"
   ]
  },
  {
   "cell_type": "code",
   "execution_count": null,
   "metadata": {},
   "outputs": [],
   "source": []
  },
  {
   "cell_type": "markdown",
   "metadata": {},
   "source": [
    "#### Create a dataframe of the average stats for each type (*Type 1*) of pokemon.\n",
    "\n",
    "Use `groupby()` to group your data by type and then return the mean.\n",
    "\n",
    "Store the resulting DataFrame to use in the next cell.\n"
   ]
  },
  {
   "cell_type": "code",
   "execution_count": null,
   "metadata": {},
   "outputs": [],
   "source": []
  },
  {
   "cell_type": "markdown",
   "metadata": {},
   "source": [
    "#### Calculate the total power level of each type of pokemon by summing all of the stats together. \n",
    "\n",
    "Place the results into a new column.\n",
    "\n",
    "**Hint:** [See here for examples and possible arguments](https://www.geeksforgeeks.org/python-pandas-dataframe-sum/) for the `sum()` function."
   ]
  },
  {
   "cell_type": "code",
   "execution_count": null,
   "metadata": {},
   "outputs": [],
   "source": []
  }
 ],
 "metadata": {
  "anaconda-cloud": {},
  "kernelspec": {
   "display_name": "Python 3",
   "language": "python",
   "name": "python3"
  },
  "language_info": {
   "codemirror_mode": {
    "name": "ipython",
    "version": 3
   },
   "file_extension": ".py",
   "mimetype": "text/x-python",
   "name": "python",
   "nbconvert_exporter": "python",
   "pygments_lexer": "ipython3",
   "version": "3.7.7"
  }
 },
 "nbformat": 4,
 "nbformat_minor": 4
}
