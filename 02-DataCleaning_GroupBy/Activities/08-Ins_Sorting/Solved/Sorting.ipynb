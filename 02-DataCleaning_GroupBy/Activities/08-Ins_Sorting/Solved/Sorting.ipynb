{
 "cells": [
  {
   "cell_type": "markdown",
   "metadata": {},
   "source": [
    "# Sorting a DataFrame\n",
    "\n",
    "[Pandas `sort_values()` documentation](https://pandas.pydata.org/pandas-docs/stable/reference/api/pandas.DataFrame.sort_values.html)"
   ]
  },
  {
   "cell_type": "markdown",
   "metadata": {},
   "source": [
    "### Import Dependencies"
   ]
  },
  {
   "cell_type": "code",
   "execution_count": null,
   "metadata": {},
   "outputs": [],
   "source": [
    "import pandas as pd\n",
    "import os"
   ]
  },
  {
   "cell_type": "markdown",
   "metadata": {},
   "source": [
    "### Load the data file"
   ]
  },
  {
   "cell_type": "code",
   "execution_count": null,
   "metadata": {},
   "outputs": [],
   "source": [
    "csv_path = os.path.join(\"..\", \"Resources\",\"Happiness_2017.csv\")\n",
    "\n",
    "happiness_df = pd.read_csv(csv_path)\n",
    "happiness_df.head()"
   ]
  },
  {
   "cell_type": "markdown",
   "metadata": {},
   "source": [
    "### Sorting the DataFrame based on \"Freedom\" column\n",
    "\n",
    "**NOTE:** By default, `sort_values()` will sort from lowest to highest."
   ]
  },
  {
   "cell_type": "code",
   "execution_count": null,
   "metadata": {},
   "outputs": [],
   "source": [
    "freedom_df = happiness_df.sort_values(\"Freedom\")\n",
    "freedom_df.head()"
   ]
  },
  {
   "cell_type": "markdown",
   "metadata": {},
   "source": [
    "### Sort descending\n",
    "\n",
    "To sort from highest to lowest, we must provide  `ascending=False` as an argument to `sort_values()`"
   ]
  },
  {
   "cell_type": "code",
   "execution_count": null,
   "metadata": {},
   "outputs": [],
   "source": [
    "freedom_df = happiness_df.sort_values(\"Freedom\", ascending=False)\n",
    "freedom_df.head()"
   ]
  },
  {
   "cell_type": "markdown",
   "metadata": {},
   "source": [
    "### Sorting based on multiple columns\n",
    "\n",
    "**NOTE:** When sorting my multiple columns, the function will prioritize the columns in the order that they are provided in the list."
   ]
  },
  {
   "cell_type": "code",
   "execution_count": null,
   "metadata": {},
   "outputs": [],
   "source": [
    "family_and_generosity = happiness_df.sort_values([\"Family\", \"Generosity\"], ascending=False)\n",
    "family_and_generosity.head()"
   ]
  },
  {
   "cell_type": "markdown",
   "metadata": {},
   "source": [
    "### Reset the index\n",
    "\n",
    "After we sort, the rows will be in a different order, but they will still maintain their pre-sort indexes, which means that the row at index 0 will not necessarily be the row with the highest/lowest value. By resetting the index, we update the indexes to reflect the new sort order.\n",
    "\n",
    "The `drop=True` argument for `reset_index()` simply means that we don't want to have the original indexes stored as a column in the dataFrame. We just want to drop them."
   ]
  },
  {
   "cell_type": "code",
   "execution_count": null,
   "metadata": {},
   "outputs": [],
   "source": [
    "new_index = family_and_generosity.reset_index(drop=True)\n",
    "new_index.head()"
   ]
  },
  {
   "cell_type": "code",
   "execution_count": null,
   "metadata": {},
   "outputs": [],
   "source": []
  }
 ],
 "metadata": {
  "kernelspec": {
   "display_name": "Python [conda env:RiceData2020] *",
   "language": "python",
   "name": "conda-env-RiceData2020-py"
  },
  "language_info": {
   "codemirror_mode": {
    "name": "ipython",
    "version": 3
   },
   "file_extension": ".py",
   "mimetype": "text/x-python",
   "name": "python",
   "nbconvert_exporter": "python",
   "pygments_lexer": "ipython3",
   "version": "3.6.10"
  }
 },
 "nbformat": 4,
 "nbformat_minor": 4
}
