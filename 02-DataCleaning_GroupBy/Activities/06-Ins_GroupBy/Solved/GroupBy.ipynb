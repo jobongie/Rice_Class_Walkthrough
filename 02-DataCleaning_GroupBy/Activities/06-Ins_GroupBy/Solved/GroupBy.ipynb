{
 "cells": [
  {
   "cell_type": "markdown",
   "metadata": {},
   "source": [
    "# Pandas GroupBy\n",
    "\n",
    "Pandas [`groupby()`](https://www.geeksforgeeks.org/python-pandas-dataframe-groupby/) function offers a simple way to group data within a DataFrame by some set of categorical values within one of the columns. In this notebook, we'll read a csv containing multiple UFO sightings across the world, we'll cleanse that data, and then group the data to further analyze the values.\n",
    "\n",
    "- [Pandas `groupby()` documentation](https://pandas.pydata.org/pandas-docs/stable/reference/api/pandas.DataFrame.groupby.html)\n",
    "- [Article about `groupby()`](https://www.geeksforgeeks.org/python-pandas-dataframe-groupby/)\n",
    "\n",
    "## Objectives:\n",
    "- Identify and remove rows with null values\n",
    "- Create a new DataFrame by filtering an existing DataFrame\n",
    "- Gather a count of occurrences of categorical values in a column\n",
    "- Convert a column's datatype to numeric\n",
    "- Group data by categorical values in a column\n",
    "- Create a new DataFrame using grouped values"
   ]
  },
  {
   "cell_type": "markdown",
   "metadata": {},
   "source": [
    "#### Import Dependencies"
   ]
  },
  {
   "cell_type": "code",
   "execution_count": null,
   "metadata": {},
   "outputs": [],
   "source": [
    "import pandas as pd\n",
    "import os"
   ]
  },
  {
   "cell_type": "markdown",
   "metadata": {},
   "source": [
    "#### Load the provided csv from the *Resources* folder"
   ]
  },
  {
   "cell_type": "code",
   "execution_count": null,
   "metadata": {},
   "outputs": [],
   "source": [
    "# Create a reference the CSV file desired\n",
    "csv_path = os.path.join(\"..\", \"Resources\",\"ufoSightings.csv\")\n",
    "\n",
    "# Read the CSV into a Pandas DataFrame\n",
    "ufo_df = pd.read_csv(csv_path)\n",
    "\n",
    "# Print the first five rows of data to the screen\n",
    "ufo_df.head()"
   ]
  },
  {
   "cell_type": "markdown",
   "metadata": {},
   "source": [
    "#### Remove the rows with missing data"
   ]
  },
  {
   "cell_type": "code",
   "execution_count": null,
   "metadata": {},
   "outputs": [],
   "source": [
    "clean_ufo_df = ufo_df.dropna(how=\"any\")\n",
    "clean_ufo_df.count()"
   ]
  },
  {
   "cell_type": "markdown",
   "metadata": {},
   "source": [
    "#### Convert the *duration (seconds)* column's values to numeric\n",
    "\n",
    "If you encounter a `SettingwithCopyWarning`, it is a good idea to review your code. In short, this warning means that you may not actually be setting the values as you think you are, or you may be setting the values of more objects than you actually intend to be. [Here is a reading more information on this.](https://www.dataquest.io/blog/settingwithcopywarning/)"
   ]
  },
  {
   "cell_type": "code",
   "execution_count": null,
   "metadata": {},
   "outputs": [],
   "source": [
    "clean_ufo_df[\"duration (seconds)\"] = clean_ufo_df[\"duration (seconds)\"].astype(float)"
   ]
  },
  {
   "cell_type": "markdown",
   "metadata": {},
   "source": [
    "#### Filter the data so that only those sightings in the US are in a DataFrame"
   ]
  },
  {
   "cell_type": "code",
   "execution_count": null,
   "metadata": {},
   "outputs": [],
   "source": [
    "usa_ufo_df = clean_ufo_df[clean_ufo_df[\"country\"] == \"us\"]\n",
    "usa_ufo_df.head()"
   ]
  },
  {
   "cell_type": "markdown",
   "metadata": {},
   "source": [
    "#### Count how many sightings have occured within each state\n",
    "\n",
    "We're storing the output of `value_counts()` in a variable so we can use it later in our code"
   ]
  },
  {
   "cell_type": "code",
   "execution_count": null,
   "metadata": {},
   "outputs": [],
   "source": [
    "state_counts = usa_ufo_df[\"state\"].value_counts()\n",
    "state_counts.head()"
   ]
  },
  {
   "cell_type": "markdown",
   "metadata": {},
   "source": [
    "___\n",
    "## GroupBy"
   ]
  },
  {
   "cell_type": "markdown",
   "metadata": {},
   "source": [
    "#### Use [`GroupBy`](https://pandas.pydata.org/pandas-docs/stable/reference/api/pandas.DataFrame.groupby.html) in order to aggregate the data according to the values in the  \"state\" columns\n",
    "\n",
    "The `groupby()` function requires that you provide the column(s) that you'd like to use as the categorical values that you'd like to group your data by.\n",
    "\n",
    "Notice when we print out the results, we cannot actually view the grouped content yet. The `groupby()` function returns a \"GroupBy object\", which requires a bit more information before we it returns the values."
   ]
  },
  {
   "cell_type": "code",
   "execution_count": null,
   "metadata": {},
   "outputs": [],
   "source": [
    "grouped_usa_df = usa_ufo_df.groupby(['state'])\n",
    "print(grouped_usa_df)"
   ]
  },
  {
   "cell_type": "markdown",
   "metadata": {},
   "source": [
    "#### In order to be visualized, we have to provide a data function to tell it how to return the values\n",
    "\n",
    "In this case, we are calling the `count()` function against our groupby object, which will return the number of non-null values for that row/column intersection.\n",
    "\n",
    "Once a data function has been provided, the resulting output is a standard DataFrame, but the row indices are now the unique values for whichever column you've grouped by."
   ]
  },
  {
   "cell_type": "code",
   "execution_count": null,
   "metadata": {},
   "outputs": [],
   "source": [
    "grouped_usa_df.count().head(10)"
   ]
  },
  {
   "cell_type": "markdown",
   "metadata": {},
   "source": [
    "#### Return the *duration (seconds)* column with the `mean()` aggregation function\n",
    "\n",
    "We can specify a particular column, as we would with a regular DataFrame, but we still need to provide a function to inform the groupby object of how it should aggregate the numbers.\n",
    "\n",
    "Since *duration (seconds)* was converted to numeric values, we can now sum them up by state."
   ]
  },
  {
   "cell_type": "code",
   "execution_count": null,
   "metadata": {},
   "outputs": [],
   "source": [
    "state_duration = grouped_usa_df[\"duration (seconds)\"].mean()\n",
    "state_duration.head()"
   ]
  },
  {
   "cell_type": "markdown",
   "metadata": {},
   "source": [
    "#### Creating a new DataFrame using both duration and count\n",
    "\n",
    "Using the `state_counts`, which we calculated previously using `value_counts()`, along with `state_duration` (the output from our group_by object above), we can create a dataframe that summarizes our data by state.\n",
    "\n",
    "Notice that `state_counts` is really just the same output as what our groupby object returned for the `count()` function."
   ]
  },
  {
   "cell_type": "code",
   "execution_count": null,
   "metadata": {},
   "outputs": [],
   "source": [
    "state_summary_table = pd.DataFrame({\"Number of Sightings\": state_counts,\n",
    "                                    \"Average Duration (s)\": state_duration})\n",
    "state_summary_table.head()"
   ]
  },
  {
   "cell_type": "markdown",
   "metadata": {},
   "source": [
    "___\n",
    "## GroupBy with multiple columns\n",
    "#### It is also possible to group a DataFrame by multiple columns\n",
    "This returns an object with multiple indices, however, which can be harder to deal with"
   ]
  },
  {
   "cell_type": "code",
   "execution_count": null,
   "metadata": {},
   "outputs": [],
   "source": [
    "grouped_international_data = clean_ufo_df.groupby(['country', 'state'])\n",
    "\n",
    "grouped_international_data.count().head(20)"
   ]
  },
  {
   "cell_type": "markdown",
   "metadata": {},
   "source": [
    "#### Converting a GroupBy object into a DataFrame\n",
    "\n",
    "In the case below, we're specifying an individual column that we want to return from our groupby object, so the result will be a *Series*. As with any *Series*, we can convert it do a *DataFrame* using `pd.DataFrame()`."
   ]
  },
  {
   "cell_type": "code",
   "execution_count": null,
   "metadata": {},
   "outputs": [],
   "source": [
    "international_duration = pd.DataFrame(grouped_international_data[\"duration (seconds)\"].sum())\n",
    "international_duration.head(10)"
   ]
  }
 ],
 "metadata": {
  "kernelspec": {
   "display_name": "Python [conda env:RiceData2020] *",
   "language": "python",
   "name": "conda-env-RiceData2020-py"
  },
  "language_info": {
   "codemirror_mode": {
    "name": "ipython",
    "version": 3
   },
   "file_extension": ".py",
   "mimetype": "text/x-python",
   "name": "python",
   "nbconvert_exporter": "python",
   "pygments_lexer": "ipython3",
   "version": "3.6.10"
  }
 },
 "nbformat": 4,
 "nbformat_minor": 4
}
