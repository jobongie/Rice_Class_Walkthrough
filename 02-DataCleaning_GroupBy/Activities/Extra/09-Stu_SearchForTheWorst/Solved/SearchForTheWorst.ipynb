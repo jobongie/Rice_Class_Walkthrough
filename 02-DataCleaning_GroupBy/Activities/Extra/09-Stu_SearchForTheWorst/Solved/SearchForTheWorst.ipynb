{
 "cells": [
  {
   "cell_type": "markdown",
   "metadata": {},
   "source": [
    "# Search For The Worst\n",
    "\n",
    "### Instructions\n",
    "\n",
    "* Read in the CSV file provided and print it to the screen.\n",
    "\n",
    "* Print out a list of all of the values within the \"Preferred Position\" column.\n",
    "\n",
    "* Select a value from this list and create a new DataFrame that only includes players who prefer that position.\n",
    "\n",
    "* Sort the DataFrame based upon a player's skill in that position.\n",
    "\n",
    "* Reset the index for the DataFrame so that the index is in order.\n",
    "\n",
    "* Print out the statistics for the worst player in a position to the screen.\n"
   ]
  },
  {
   "cell_type": "markdown",
   "metadata": {},
   "source": [
    "### Import Dependencies"
   ]
  },
  {
   "cell_type": "code",
   "execution_count": null,
   "metadata": {
    "collapsed": true
   },
   "outputs": [],
   "source": [
    "import pandas as pd\n",
    "import os"
   ]
  },
  {
   "cell_type": "markdown",
   "metadata": {},
   "source": [
    "### Load the provided CSV file"
   ]
  },
  {
   "cell_type": "code",
   "execution_count": null,
   "metadata": {},
   "outputs": [],
   "source": [
    "# Create reference to CSV file\n",
    "csv_path = os.path.join(\"Resources\",\"Soccer2018Data.csv\")\n",
    "\n",
    "# Import the CSV into a pandas DataFrame\n",
    "soccer_2018_df = pd.read_csv(csv_path)\n",
    "soccer_2018_df.head()"
   ]
  },
  {
   "cell_type": "markdown",
   "metadata": {},
   "source": [
    "### View all the unique values in *\"Preferred Position\"*"
   ]
  },
  {
   "cell_type": "code",
   "execution_count": null,
   "metadata": {},
   "outputs": [],
   "source": [
    "soccer_2018_df[\"Preferred Position\"].unique()"
   ]
  },
  {
   "cell_type": "markdown",
   "metadata": {},
   "source": [
    "### Create a new DataFrame by filtering your data to return only strikers (*\"Preferred Position\"* = *ST*)"
   ]
  },
  {
   "cell_type": "code",
   "execution_count": null,
   "metadata": {},
   "outputs": [],
   "source": [
    "strikers_2018_df = soccer_2018_df.loc[soccer_2018_df[\"Preferred Position\"] == \"ST\", :]\n",
    "strikers_2018_df.head()"
   ]
  },
  {
   "cell_type": "markdown",
   "metadata": {},
   "source": [
    "### Sort the DataFrame by the values in the \"ST\" column to find the worst striker, and then reset the index\n",
    "\n",
    "The *ST* column contains each player's striking stats. By sorting this column ascending, we can identify the worst striker in our data."
   ]
  },
  {
   "cell_type": "code",
   "execution_count": null,
   "metadata": {},
   "outputs": [],
   "source": [
    "strikers_2018_df = strikers_2018_df.sort_values(\"ST\")\n",
    "strikers_2018_df = strikers_2018_df.reset_index(drop=True)\n",
    "\n",
    "strikers_2018_df.head()"
   ]
  },
  {
   "cell_type": "markdown",
   "metadata": {},
   "source": [
    "### Print out all of the stats on the worst striker"
   ]
  },
  {
   "cell_type": "code",
   "execution_count": null,
   "metadata": {
    "scrolled": false
   },
   "outputs": [],
   "source": [
    "strikers_2018_df.loc[0, :]"
   ]
  }
 ],
 "metadata": {
  "kernelspec": {
   "display_name": "RicePythonData",
   "language": "python",
   "name": "ricepythondata"
  },
  "language_info": {
   "codemirror_mode": {
    "name": "ipython",
    "version": 3
   },
   "file_extension": ".py",
   "mimetype": "text/x-python",
   "name": "python",
   "nbconvert_exporter": "python",
   "pygments_lexer": "ipython3",
   "version": "3.7.2"
  }
 },
 "nbformat": 4,
 "nbformat_minor": 2
}
