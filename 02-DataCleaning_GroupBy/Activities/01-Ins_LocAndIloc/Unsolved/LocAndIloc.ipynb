{
 "cells": [
  {
   "cell_type": "markdown",
   "metadata": {},
   "source": [
    "# Selecting data from a DataFrame\n",
    "\n",
    "Pandas DataFrames offer 2 methods that enable you to query for specific rows of data. \n",
    "\n",
    "`loc` allows you to select data using label based indices. In other words, it can be used when your DataFrame contains strings as indices.\n",
    "\n",
    "`iloc` is similar, except that it allows you to query for rows using integer-based indices. This is much like how you would select data from a list, using position-based indices.\n"
   ]
  },
  {
   "cell_type": "markdown",
   "metadata": {},
   "source": [
    "#### Import Dependencies"
   ]
  },
  {
   "cell_type": "code",
   "execution_count": 10,
   "metadata": {},
   "outputs": [],
   "source": [
    "import pandas as pd\n",
    "import os"
   ]
  },
  {
   "cell_type": "markdown",
   "metadata": {},
   "source": [
    "#### Set the path to your file"
   ]
  },
  {
   "cell_type": "code",
   "execution_count": 11,
   "metadata": {},
   "outputs": [],
   "source": [
    "file = os.path.join(\"..\", \"Resources\",\"sampleData.csv\")"
   ]
  },
  {
   "cell_type": "markdown",
   "metadata": {},
   "source": [
    "#### Read the csv"
   ]
  },
  {
   "cell_type": "code",
   "execution_count": 17,
   "metadata": {
    "scrolled": true
   },
   "outputs": [
    {
     "data": {
      "text/html": [
       "<div>\n",
       "<style scoped>\n",
       "    .dataframe tbody tr th:only-of-type {\n",
       "        vertical-align: middle;\n",
       "    }\n",
       "\n",
       "    .dataframe tbody tr th {\n",
       "        vertical-align: top;\n",
       "    }\n",
       "\n",
       "    .dataframe thead th {\n",
       "        text-align: right;\n",
       "    }\n",
       "</style>\n",
       "<table border=\"1\" class=\"dataframe\">\n",
       "  <thead>\n",
       "    <tr style=\"text-align: right;\">\n",
       "      <th></th>\n",
       "      <th>id</th>\n",
       "      <th>first_name</th>\n",
       "      <th>last_name</th>\n",
       "      <th>Phone Number</th>\n",
       "      <th>Time zone</th>\n",
       "    </tr>\n",
       "  </thead>\n",
       "  <tbody>\n",
       "    <tr>\n",
       "      <th>0</th>\n",
       "      <td>1</td>\n",
       "      <td>Peter</td>\n",
       "      <td>Richardson</td>\n",
       "      <td>7-(789)867-9023</td>\n",
       "      <td>Europe/Moscow</td>\n",
       "    </tr>\n",
       "    <tr>\n",
       "      <th>1</th>\n",
       "      <td>2</td>\n",
       "      <td>Janice</td>\n",
       "      <td>Berry</td>\n",
       "      <td>86-(614)973-1727</td>\n",
       "      <td>Asia/Harbin</td>\n",
       "    </tr>\n",
       "    <tr>\n",
       "      <th>2</th>\n",
       "      <td>3</td>\n",
       "      <td>Andrea</td>\n",
       "      <td>Hudson</td>\n",
       "      <td>86-(918)527-6371</td>\n",
       "      <td>Asia/Shanghai</td>\n",
       "    </tr>\n",
       "    <tr>\n",
       "      <th>3</th>\n",
       "      <td>4</td>\n",
       "      <td>Arthur</td>\n",
       "      <td>Mcdonald</td>\n",
       "      <td>420-(553)779-7783</td>\n",
       "      <td>Europe/Prague</td>\n",
       "    </tr>\n",
       "    <tr>\n",
       "      <th>4</th>\n",
       "      <td>5</td>\n",
       "      <td>Kathy</td>\n",
       "      <td>Morales</td>\n",
       "      <td>351-(720)541-2124</td>\n",
       "      <td>Europe/Lisbon</td>\n",
       "    </tr>\n",
       "    <tr>\n",
       "      <th>5</th>\n",
       "      <td>6</td>\n",
       "      <td>Juan</td>\n",
       "      <td>Reyes</td>\n",
       "      <td>507-(957)942-8540</td>\n",
       "      <td>America/Panama</td>\n",
       "    </tr>\n",
       "    <tr>\n",
       "      <th>6</th>\n",
       "      <td>7</td>\n",
       "      <td>Joseph</td>\n",
       "      <td>Kim</td>\n",
       "      <td>62-(764)534-1192</td>\n",
       "      <td>Asia/Jakarta</td>\n",
       "    </tr>\n",
       "    <tr>\n",
       "      <th>7</th>\n",
       "      <td>8</td>\n",
       "      <td>Frances</td>\n",
       "      <td>Hudson</td>\n",
       "      <td>57-(752)864-4744</td>\n",
       "      <td>America/Bogota</td>\n",
       "    </tr>\n",
       "    <tr>\n",
       "      <th>8</th>\n",
       "      <td>9</td>\n",
       "      <td>Judy</td>\n",
       "      <td>Day</td>\n",
       "      <td>7-(863)797-2311</td>\n",
       "      <td>Europe/Moscow</td>\n",
       "    </tr>\n",
       "    <tr>\n",
       "      <th>9</th>\n",
       "      <td>10</td>\n",
       "      <td>Robert</td>\n",
       "      <td>Ford</td>\n",
       "      <td>92-(784)853-3450</td>\n",
       "      <td>Asia/Karachi</td>\n",
       "    </tr>\n",
       "  </tbody>\n",
       "</table>\n",
       "</div>"
      ],
      "text/plain": [
       "   id first_name   last_name       Phone Number       Time zone\n",
       "0   1      Peter  Richardson    7-(789)867-9023   Europe/Moscow\n",
       "1   2     Janice       Berry   86-(614)973-1727     Asia/Harbin\n",
       "2   3     Andrea      Hudson   86-(918)527-6371   Asia/Shanghai\n",
       "3   4     Arthur    Mcdonald  420-(553)779-7783   Europe/Prague\n",
       "4   5      Kathy     Morales  351-(720)541-2124   Europe/Lisbon\n",
       "5   6       Juan       Reyes  507-(957)942-8540  America/Panama\n",
       "6   7     Joseph         Kim   62-(764)534-1192    Asia/Jakarta\n",
       "7   8    Frances      Hudson   57-(752)864-4744  America/Bogota\n",
       "8   9       Judy         Day    7-(863)797-2311   Europe/Moscow\n",
       "9  10     Robert        Ford   92-(784)853-3450    Asia/Karachi"
      ]
     },
     "execution_count": 17,
     "metadata": {},
     "output_type": "execute_result"
    }
   ],
   "source": [
    "df_original = pd.read_csv(file)\n",
    "df_original.head(10)"
   ]
  },
  {
   "cell_type": "markdown",
   "metadata": {},
   "source": [
    "#### Set new index to *last_name*\n",
    "\n",
    "`set_index()` allows you to establish one of the existing columns in your DataFrame to be the index. \n",
    "\n",
    "**NOTE:** Indices in a DataFrame do not have to be unique."
   ]
  },
  {
   "cell_type": "code",
   "execution_count": 18,
   "metadata": {
    "scrolled": true
   },
   "outputs": [],
   "source": [
    "df = df_original.set_index(\"last_name\")"
   ]
  },
  {
   "cell_type": "markdown",
   "metadata": {},
   "source": [
    "#### Retrieve the data contained within the *Berry* row and the *Phone Number* column (Janice Berry's Phone Number)\n",
    "\n",
    "Much like the `Cells()` function in VBA, these functions take **rows** first, and **columns** second."
   ]
  },
  {
   "cell_type": "code",
   "execution_count": 24,
   "metadata": {},
   "outputs": [
    {
     "name": "stdout",
     "output_type": "stream",
     "text": [
      "Number using loc:86-(614)973-1727\n",
      "Number using iloc:{df.iloc[1,2]}\n"
     ]
    }
   ],
   "source": [
    "print(f'Number using loc:{df.loc[\"Berry\", \"Phone Number\"]}')\n",
    "print('Number using iloc:{df.iloc[1,2]}')"
   ]
  },
  {
   "cell_type": "markdown",
   "metadata": {},
   "source": [
    "#### Trying to select the first 5 rows of data with `loc()`\n",
    "\n",
    "Trying to use label indices to select the first 5 rows of data may not always work. Pandas allows for duplicate indices, so you'll likely get more data than you anticipate."
   ]
  },
  {
   "cell_type": "code",
   "execution_count": 25,
   "metadata": {},
   "outputs": [
    {
     "data": {
      "text/html": [
       "<div>\n",
       "<style scoped>\n",
       "    .dataframe tbody tr th:only-of-type {\n",
       "        vertical-align: middle;\n",
       "    }\n",
       "\n",
       "    .dataframe tbody tr th {\n",
       "        vertical-align: top;\n",
       "    }\n",
       "\n",
       "    .dataframe thead th {\n",
       "        text-align: right;\n",
       "    }\n",
       "</style>\n",
       "<table border=\"1\" class=\"dataframe\">\n",
       "  <thead>\n",
       "    <tr style=\"text-align: right;\">\n",
       "      <th></th>\n",
       "      <th>id</th>\n",
       "      <th>first_name</th>\n",
       "    </tr>\n",
       "    <tr>\n",
       "      <th>last_name</th>\n",
       "      <th></th>\n",
       "      <th></th>\n",
       "    </tr>\n",
       "  </thead>\n",
       "  <tbody>\n",
       "    <tr>\n",
       "      <th>Richardson</th>\n",
       "      <td>1</td>\n",
       "      <td>Peter</td>\n",
       "    </tr>\n",
       "    <tr>\n",
       "      <th>Richardson</th>\n",
       "      <td>25</td>\n",
       "      <td>Donald</td>\n",
       "    </tr>\n",
       "    <tr>\n",
       "      <th>Berry</th>\n",
       "      <td>2</td>\n",
       "      <td>Janice</td>\n",
       "    </tr>\n",
       "    <tr>\n",
       "      <th>Hudson</th>\n",
       "      <td>3</td>\n",
       "      <td>Andrea</td>\n",
       "    </tr>\n",
       "    <tr>\n",
       "      <th>Hudson</th>\n",
       "      <td>8</td>\n",
       "      <td>Frances</td>\n",
       "    </tr>\n",
       "    <tr>\n",
       "      <th>Hudson</th>\n",
       "      <td>90</td>\n",
       "      <td>Norma</td>\n",
       "    </tr>\n",
       "    <tr>\n",
       "      <th>Mcdonald</th>\n",
       "      <td>4</td>\n",
       "      <td>Arthur</td>\n",
       "    </tr>\n",
       "    <tr>\n",
       "      <th>Morales</th>\n",
       "      <td>5</td>\n",
       "      <td>Kathy</td>\n",
       "    </tr>\n",
       "  </tbody>\n",
       "</table>\n",
       "</div>"
      ],
      "text/plain": [
       "            id first_name\n",
       "last_name                \n",
       "Richardson   1      Peter\n",
       "Richardson  25     Donald\n",
       "Berry        2     Janice\n",
       "Hudson       3     Andrea\n",
       "Hudson       8    Frances\n",
       "Hudson      90      Norma\n",
       "Mcdonald     4     Arthur\n",
       "Morales      5      Kathy"
      ]
     },
     "execution_count": 25,
     "metadata": {},
     "output_type": "execute_result"
    }
   ],
   "source": [
    "df.loc[[\"Richardson\", \"Berry\", \"Hudson\", \"Mcdonald\", \"Morales\",], ['id', 'first_name']]"
   ]
  },
  {
   "cell_type": "markdown",
   "metadata": {},
   "source": [
    "#### Selecting the first 5 rows of data with `iloc`\n",
    "\n",
    "`iloc` selects by numeric index, which is more precise since positional indices are always unique."
   ]
  },
  {
   "cell_type": "code",
   "execution_count": 27,
   "metadata": {},
   "outputs": [
    {
     "data": {
      "text/html": [
       "<div>\n",
       "<style scoped>\n",
       "    .dataframe tbody tr th:only-of-type {\n",
       "        vertical-align: middle;\n",
       "    }\n",
       "\n",
       "    .dataframe tbody tr th {\n",
       "        vertical-align: top;\n",
       "    }\n",
       "\n",
       "    .dataframe thead th {\n",
       "        text-align: right;\n",
       "    }\n",
       "</style>\n",
       "<table border=\"1\" class=\"dataframe\">\n",
       "  <thead>\n",
       "    <tr style=\"text-align: right;\">\n",
       "      <th></th>\n",
       "      <th>Phone Number</th>\n",
       "      <th>Time zone</th>\n",
       "    </tr>\n",
       "    <tr>\n",
       "      <th>last_name</th>\n",
       "      <th></th>\n",
       "      <th></th>\n",
       "    </tr>\n",
       "  </thead>\n",
       "  <tbody>\n",
       "    <tr>\n",
       "      <th>Richardson</th>\n",
       "      <td>7-(789)867-9023</td>\n",
       "      <td>Europe/Moscow</td>\n",
       "    </tr>\n",
       "    <tr>\n",
       "      <th>Berry</th>\n",
       "      <td>86-(614)973-1727</td>\n",
       "      <td>Asia/Harbin</td>\n",
       "    </tr>\n",
       "    <tr>\n",
       "      <th>Hudson</th>\n",
       "      <td>86-(918)527-6371</td>\n",
       "      <td>Asia/Shanghai</td>\n",
       "    </tr>\n",
       "    <tr>\n",
       "      <th>Mcdonald</th>\n",
       "      <td>420-(553)779-7783</td>\n",
       "      <td>Europe/Prague</td>\n",
       "    </tr>\n",
       "    <tr>\n",
       "      <th>Morales</th>\n",
       "      <td>351-(720)541-2124</td>\n",
       "      <td>Europe/Lisbon</td>\n",
       "    </tr>\n",
       "  </tbody>\n",
       "</table>\n",
       "</div>"
      ],
      "text/plain": [
       "                 Phone Number      Time zone\n",
       "last_name                                   \n",
       "Richardson    7-(789)867-9023  Europe/Moscow\n",
       "Berry        86-(614)973-1727    Asia/Harbin\n",
       "Hudson       86-(918)527-6371  Asia/Shanghai\n",
       "Mcdonald    420-(553)779-7783  Europe/Prague\n",
       "Morales     351-(720)541-2124  Europe/Lisbon"
      ]
     },
     "execution_count": 27,
     "metadata": {},
     "output_type": "execute_result"
    }
   ],
   "source": [
    "# df.iloc[0:5]\n",
    "df.iloc[0:5,2:4]"
   ]
  },
  {
   "cell_type": "markdown",
   "metadata": {},
   "source": [
    "#### Select all rows for columns *first_name* and *Phone Number* using `iloc`"
   ]
  },
  {
   "cell_type": "code",
   "execution_count": 32,
   "metadata": {},
   "outputs": [
    {
     "data": {
      "text/html": [
       "<div>\n",
       "<style scoped>\n",
       "    .dataframe tbody tr th:only-of-type {\n",
       "        vertical-align: middle;\n",
       "    }\n",
       "\n",
       "    .dataframe tbody tr th {\n",
       "        vertical-align: top;\n",
       "    }\n",
       "\n",
       "    .dataframe thead th {\n",
       "        text-align: right;\n",
       "    }\n",
       "</style>\n",
       "<table border=\"1\" class=\"dataframe\">\n",
       "  <thead>\n",
       "    <tr style=\"text-align: right;\">\n",
       "      <th></th>\n",
       "      <th>first_name</th>\n",
       "      <th>Phone Number</th>\n",
       "    </tr>\n",
       "    <tr>\n",
       "      <th>last_name</th>\n",
       "      <th></th>\n",
       "      <th></th>\n",
       "    </tr>\n",
       "  </thead>\n",
       "  <tbody>\n",
       "    <tr>\n",
       "      <th>Richardson</th>\n",
       "      <td>Peter</td>\n",
       "      <td>7-(789)867-9023</td>\n",
       "    </tr>\n",
       "    <tr>\n",
       "      <th>Berry</th>\n",
       "      <td>Janice</td>\n",
       "      <td>86-(614)973-1727</td>\n",
       "    </tr>\n",
       "    <tr>\n",
       "      <th>Hudson</th>\n",
       "      <td>Andrea</td>\n",
       "      <td>86-(918)527-6371</td>\n",
       "    </tr>\n",
       "    <tr>\n",
       "      <th>Mcdonald</th>\n",
       "      <td>Arthur</td>\n",
       "      <td>420-(553)779-7783</td>\n",
       "    </tr>\n",
       "    <tr>\n",
       "      <th>Morales</th>\n",
       "      <td>Kathy</td>\n",
       "      <td>351-(720)541-2124</td>\n",
       "    </tr>\n",
       "    <tr>\n",
       "      <th>...</th>\n",
       "      <td>...</td>\n",
       "      <td>...</td>\n",
       "    </tr>\n",
       "    <tr>\n",
       "      <th>Henderson</th>\n",
       "      <td>Arthur</td>\n",
       "      <td>81-(353)751-4060</td>\n",
       "    </tr>\n",
       "    <tr>\n",
       "      <th>Riley</th>\n",
       "      <td>Christina</td>\n",
       "      <td>93-(374)749-5085</td>\n",
       "    </tr>\n",
       "    <tr>\n",
       "      <th>Green</th>\n",
       "      <td>Nicholas</td>\n",
       "      <td>86-(750)462-3375</td>\n",
       "    </tr>\n",
       "    <tr>\n",
       "      <th>Peters</th>\n",
       "      <td>Debra</td>\n",
       "      <td>86-(879)987-9025</td>\n",
       "    </tr>\n",
       "    <tr>\n",
       "      <th>Murray</th>\n",
       "      <td>Matthew</td>\n",
       "      <td>353-(195)215-1300</td>\n",
       "    </tr>\n",
       "  </tbody>\n",
       "</table>\n",
       "<p>100 rows × 2 columns</p>\n",
       "</div>"
      ],
      "text/plain": [
       "           first_name       Phone Number\n",
       "last_name                               \n",
       "Richardson      Peter    7-(789)867-9023\n",
       "Berry          Janice   86-(614)973-1727\n",
       "Hudson         Andrea   86-(918)527-6371\n",
       "Mcdonald       Arthur  420-(553)779-7783\n",
       "Morales         Kathy  351-(720)541-2124\n",
       "...               ...                ...\n",
       "Henderson      Arthur   81-(353)751-4060\n",
       "Riley       Christina   93-(374)749-5085\n",
       "Green        Nicholas   86-(750)462-3375\n",
       "Peters          Debra   86-(879)987-9025\n",
       "Murray        Matthew  353-(195)215-1300\n",
       "\n",
       "[100 rows x 2 columns]"
      ]
     },
     "execution_count": 32,
     "metadata": {},
     "output_type": "execute_result"
    }
   ],
   "source": [
    "df.iloc[:,[1,2]]"
   ]
  },
  {
   "cell_type": "markdown",
   "metadata": {},
   "source": [
    "#### Select all rows for columns *first_name* and *Phone Number* using `loc`"
   ]
  },
  {
   "cell_type": "code",
   "execution_count": 29,
   "metadata": {},
   "outputs": [
    {
     "data": {
      "text/html": [
       "<div>\n",
       "<style scoped>\n",
       "    .dataframe tbody tr th:only-of-type {\n",
       "        vertical-align: middle;\n",
       "    }\n",
       "\n",
       "    .dataframe tbody tr th {\n",
       "        vertical-align: top;\n",
       "    }\n",
       "\n",
       "    .dataframe thead th {\n",
       "        text-align: right;\n",
       "    }\n",
       "</style>\n",
       "<table border=\"1\" class=\"dataframe\">\n",
       "  <thead>\n",
       "    <tr style=\"text-align: right;\">\n",
       "      <th></th>\n",
       "      <th>first_name</th>\n",
       "      <th>Phone Number</th>\n",
       "    </tr>\n",
       "    <tr>\n",
       "      <th>last_name</th>\n",
       "      <th></th>\n",
       "      <th></th>\n",
       "    </tr>\n",
       "  </thead>\n",
       "  <tbody>\n",
       "    <tr>\n",
       "      <th>Richardson</th>\n",
       "      <td>Peter</td>\n",
       "      <td>7-(789)867-9023</td>\n",
       "    </tr>\n",
       "    <tr>\n",
       "      <th>Berry</th>\n",
       "      <td>Janice</td>\n",
       "      <td>86-(614)973-1727</td>\n",
       "    </tr>\n",
       "    <tr>\n",
       "      <th>Hudson</th>\n",
       "      <td>Andrea</td>\n",
       "      <td>86-(918)527-6371</td>\n",
       "    </tr>\n",
       "    <tr>\n",
       "      <th>Mcdonald</th>\n",
       "      <td>Arthur</td>\n",
       "      <td>420-(553)779-7783</td>\n",
       "    </tr>\n",
       "    <tr>\n",
       "      <th>Morales</th>\n",
       "      <td>Kathy</td>\n",
       "      <td>351-(720)541-2124</td>\n",
       "    </tr>\n",
       "    <tr>\n",
       "      <th>...</th>\n",
       "      <td>...</td>\n",
       "      <td>...</td>\n",
       "    </tr>\n",
       "    <tr>\n",
       "      <th>Henderson</th>\n",
       "      <td>Arthur</td>\n",
       "      <td>81-(353)751-4060</td>\n",
       "    </tr>\n",
       "    <tr>\n",
       "      <th>Riley</th>\n",
       "      <td>Christina</td>\n",
       "      <td>93-(374)749-5085</td>\n",
       "    </tr>\n",
       "    <tr>\n",
       "      <th>Green</th>\n",
       "      <td>Nicholas</td>\n",
       "      <td>86-(750)462-3375</td>\n",
       "    </tr>\n",
       "    <tr>\n",
       "      <th>Peters</th>\n",
       "      <td>Debra</td>\n",
       "      <td>86-(879)987-9025</td>\n",
       "    </tr>\n",
       "    <tr>\n",
       "      <th>Murray</th>\n",
       "      <td>Matthew</td>\n",
       "      <td>353-(195)215-1300</td>\n",
       "    </tr>\n",
       "  </tbody>\n",
       "</table>\n",
       "<p>100 rows × 2 columns</p>\n",
       "</div>"
      ],
      "text/plain": [
       "           first_name       Phone Number\n",
       "last_name                               \n",
       "Richardson      Peter    7-(789)867-9023\n",
       "Berry          Janice   86-(614)973-1727\n",
       "Hudson         Andrea   86-(918)527-6371\n",
       "Mcdonald       Arthur  420-(553)779-7783\n",
       "Morales         Kathy  351-(720)541-2124\n",
       "...               ...                ...\n",
       "Henderson      Arthur   81-(353)751-4060\n",
       "Riley       Christina   93-(374)749-5085\n",
       "Green        Nicholas   86-(750)462-3375\n",
       "Peters          Debra   86-(879)987-9025\n",
       "Murray        Matthew  353-(195)215-1300\n",
       "\n",
       "[100 rows x 2 columns]"
      ]
     },
     "execution_count": 29,
     "metadata": {},
     "output_type": "execute_result"
    }
   ],
   "source": [
    "# All data\n",
    "#df.loc[:,]\n",
    "\n",
    "#First 20 rows\n",
    "#df.loc[20:]\n",
    "\n",
    "df.loc[:, ['first_name', 'Phone Number']]"
   ]
  },
  {
   "cell_type": "markdown",
   "metadata": {},
   "source": [
    "#### Performing a conditional statement returns a series of boolean values"
   ]
  },
  {
   "cell_type": "code",
   "execution_count": 36,
   "metadata": {},
   "outputs": [
    {
     "data": {
      "text/plain": [
       "last_name\n",
       "Richardson    False\n",
       "Berry         False\n",
       "Hudson        False\n",
       "Mcdonald      False\n",
       "Morales       False\n",
       "              ...  \n",
       "Henderson     False\n",
       "Riley         False\n",
       "Green         False\n",
       "Peters        False\n",
       "Murray        False\n",
       "Name: first_name, Length: 100, dtype: bool"
      ]
     },
     "execution_count": 36,
     "metadata": {},
     "output_type": "execute_result"
    }
   ],
   "source": [
    "# df['first_name']\n",
    "df['first_name'] == \"Billy\""
   ]
  },
  {
   "cell_type": "markdown",
   "metadata": {},
   "source": [
    "#### Using conditional statements allows for easy filtering\n",
    "\n",
    "Using the same logic as above, we get only the rows where the first_name is Billy"
   ]
  },
  {
   "cell_type": "code",
   "execution_count": 41,
   "metadata": {},
   "outputs": [
    {
     "data": {
      "text/html": [
       "<div>\n",
       "<style scoped>\n",
       "    .dataframe tbody tr th:only-of-type {\n",
       "        vertical-align: middle;\n",
       "    }\n",
       "\n",
       "    .dataframe tbody tr th {\n",
       "        vertical-align: top;\n",
       "    }\n",
       "\n",
       "    .dataframe thead th {\n",
       "        text-align: right;\n",
       "    }\n",
       "</style>\n",
       "<table border=\"1\" class=\"dataframe\">\n",
       "  <thead>\n",
       "    <tr style=\"text-align: right;\">\n",
       "      <th></th>\n",
       "      <th>id</th>\n",
       "      <th>first_name</th>\n",
       "      <th>Phone Number</th>\n",
       "      <th>Time zone</th>\n",
       "    </tr>\n",
       "    <tr>\n",
       "      <th>last_name</th>\n",
       "      <th></th>\n",
       "      <th></th>\n",
       "      <th></th>\n",
       "      <th></th>\n",
       "    </tr>\n",
       "  </thead>\n",
       "  <tbody>\n",
       "    <tr>\n",
       "      <th>Clark</th>\n",
       "      <td>20</td>\n",
       "      <td>Billy</td>\n",
       "      <td>62-(213)345-2549</td>\n",
       "      <td>Asia/Makassar</td>\n",
       "    </tr>\n",
       "    <tr>\n",
       "      <th>Andrews</th>\n",
       "      <td>23</td>\n",
       "      <td>Billy</td>\n",
       "      <td>86-(859)746-5367</td>\n",
       "      <td>Asia/Chongqing</td>\n",
       "    </tr>\n",
       "    <tr>\n",
       "      <th>Price</th>\n",
       "      <td>59</td>\n",
       "      <td>Billy</td>\n",
       "      <td>86-(878)547-7739</td>\n",
       "      <td>Asia/Shanghai</td>\n",
       "    </tr>\n",
       "  </tbody>\n",
       "</table>\n",
       "</div>"
      ],
      "text/plain": [
       "           id first_name      Phone Number       Time zone\n",
       "last_name                                                 \n",
       "Clark      20      Billy  62-(213)345-2549   Asia/Makassar\n",
       "Andrews    23      Billy  86-(859)746-5367  Asia/Chongqing\n",
       "Price      59      Billy  86-(878)547-7739   Asia/Shanghai"
      ]
     },
     "execution_count": 41,
     "metadata": {},
     "output_type": "execute_result"
    }
   ],
   "source": [
    "df[df['first_name'] == \"Billy\"]"
   ]
  },
  {
   "cell_type": "markdown",
   "metadata": {},
   "source": [
    "#### With `loc` you use conditionals and column filters"
   ]
  },
  {
   "cell_type": "code",
   "execution_count": 42,
   "metadata": {},
   "outputs": [
    {
     "data": {
      "text/html": [
       "<div>\n",
       "<style scoped>\n",
       "    .dataframe tbody tr th:only-of-type {\n",
       "        vertical-align: middle;\n",
       "    }\n",
       "\n",
       "    .dataframe tbody tr th {\n",
       "        vertical-align: top;\n",
       "    }\n",
       "\n",
       "    .dataframe thead th {\n",
       "        text-align: right;\n",
       "    }\n",
       "</style>\n",
       "<table border=\"1\" class=\"dataframe\">\n",
       "  <thead>\n",
       "    <tr style=\"text-align: right;\">\n",
       "      <th></th>\n",
       "      <th>first_name</th>\n",
       "      <th>Phone Number</th>\n",
       "    </tr>\n",
       "    <tr>\n",
       "      <th>last_name</th>\n",
       "      <th></th>\n",
       "      <th></th>\n",
       "    </tr>\n",
       "  </thead>\n",
       "  <tbody>\n",
       "    <tr>\n",
       "      <th>Clark</th>\n",
       "      <td>Billy</td>\n",
       "      <td>62-(213)345-2549</td>\n",
       "    </tr>\n",
       "    <tr>\n",
       "      <th>Andrews</th>\n",
       "      <td>Billy</td>\n",
       "      <td>86-(859)746-5367</td>\n",
       "    </tr>\n",
       "    <tr>\n",
       "      <th>Price</th>\n",
       "      <td>Billy</td>\n",
       "      <td>86-(878)547-7739</td>\n",
       "    </tr>\n",
       "  </tbody>\n",
       "</table>\n",
       "</div>"
      ],
      "text/plain": [
       "          first_name      Phone Number\n",
       "last_name                             \n",
       "Clark          Billy  62-(213)345-2549\n",
       "Andrews        Billy  86-(859)746-5367\n",
       "Price          Billy  86-(878)547-7739"
      ]
     },
     "execution_count": 42,
     "metadata": {},
     "output_type": "execute_result"
    }
   ],
   "source": [
    "df.loc[df['first_name'] == \"Billy\",['first_name', 'Phone Number']]"
   ]
  },
  {
   "cell_type": "markdown",
   "metadata": {},
   "source": [
    "#### Multiple conditions can be set to narrow or widen the filter\n",
    "\n",
    "This filter selects for all entries where *first_name* equals \"Billy\" **OR** \"Peter\"."
   ]
  },
  {
   "cell_type": "code",
   "execution_count": 44,
   "metadata": {},
   "outputs": [
    {
     "data": {
      "text/html": [
       "<div>\n",
       "<style scoped>\n",
       "    .dataframe tbody tr th:only-of-type {\n",
       "        vertical-align: middle;\n",
       "    }\n",
       "\n",
       "    .dataframe tbody tr th {\n",
       "        vertical-align: top;\n",
       "    }\n",
       "\n",
       "    .dataframe thead th {\n",
       "        text-align: right;\n",
       "    }\n",
       "</style>\n",
       "<table border=\"1\" class=\"dataframe\">\n",
       "  <thead>\n",
       "    <tr style=\"text-align: right;\">\n",
       "      <th></th>\n",
       "      <th>id</th>\n",
       "      <th>first_name</th>\n",
       "      <th>Phone Number</th>\n",
       "      <th>Time zone</th>\n",
       "    </tr>\n",
       "    <tr>\n",
       "      <th>last_name</th>\n",
       "      <th></th>\n",
       "      <th></th>\n",
       "      <th></th>\n",
       "      <th></th>\n",
       "    </tr>\n",
       "  </thead>\n",
       "  <tbody>\n",
       "    <tr>\n",
       "      <th>Richardson</th>\n",
       "      <td>1</td>\n",
       "      <td>Peter</td>\n",
       "      <td>7-(789)867-9023</td>\n",
       "      <td>Europe/Moscow</td>\n",
       "    </tr>\n",
       "    <tr>\n",
       "      <th>Clark</th>\n",
       "      <td>20</td>\n",
       "      <td>Billy</td>\n",
       "      <td>62-(213)345-2549</td>\n",
       "      <td>Asia/Makassar</td>\n",
       "    </tr>\n",
       "    <tr>\n",
       "      <th>Andrews</th>\n",
       "      <td>23</td>\n",
       "      <td>Billy</td>\n",
       "      <td>86-(859)746-5367</td>\n",
       "      <td>Asia/Chongqing</td>\n",
       "    </tr>\n",
       "    <tr>\n",
       "      <th>Price</th>\n",
       "      <td>59</td>\n",
       "      <td>Billy</td>\n",
       "      <td>86-(878)547-7739</td>\n",
       "      <td>Asia/Shanghai</td>\n",
       "    </tr>\n",
       "  </tbody>\n",
       "</table>\n",
       "</div>"
      ],
      "text/plain": [
       "            id first_name      Phone Number       Time zone\n",
       "last_name                                                  \n",
       "Richardson   1      Peter   7-(789)867-9023   Europe/Moscow\n",
       "Clark       20      Billy  62-(213)345-2549   Asia/Makassar\n",
       "Andrews     23      Billy  86-(859)746-5367  Asia/Chongqing\n",
       "Price       59      Billy  86-(878)547-7739   Asia/Shanghai"
      ]
     },
     "execution_count": 44,
     "metadata": {},
     "output_type": "execute_result"
    }
   ],
   "source": [
    "df[(df['first_name'] == 'Billy') | (df['first_name']=='Peter')]"
   ]
  },
  {
   "cell_type": "code",
   "execution_count": 45,
   "metadata": {},
   "outputs": [
    {
     "data": {
      "text/html": [
       "<div>\n",
       "<style scoped>\n",
       "    .dataframe tbody tr th:only-of-type {\n",
       "        vertical-align: middle;\n",
       "    }\n",
       "\n",
       "    .dataframe tbody tr th {\n",
       "        vertical-align: top;\n",
       "    }\n",
       "\n",
       "    .dataframe thead th {\n",
       "        text-align: right;\n",
       "    }\n",
       "</style>\n",
       "<table border=\"1\" class=\"dataframe\">\n",
       "  <thead>\n",
       "    <tr style=\"text-align: right;\">\n",
       "      <th></th>\n",
       "      <th>id</th>\n",
       "      <th>first_name</th>\n",
       "      <th>Phone Number</th>\n",
       "      <th>Time zone</th>\n",
       "    </tr>\n",
       "    <tr>\n",
       "      <th>last_name</th>\n",
       "      <th></th>\n",
       "      <th></th>\n",
       "      <th></th>\n",
       "      <th></th>\n",
       "    </tr>\n",
       "  </thead>\n",
       "  <tbody>\n",
       "    <tr>\n",
       "      <th>Richardson</th>\n",
       "      <td>1</td>\n",
       "      <td>Peter</td>\n",
       "      <td>7-(789)867-9023</td>\n",
       "      <td>Europe/Moscow</td>\n",
       "    </tr>\n",
       "    <tr>\n",
       "      <th>Mcdonald</th>\n",
       "      <td>4</td>\n",
       "      <td>Arthur</td>\n",
       "      <td>420-(553)779-7783</td>\n",
       "      <td>Europe/Prague</td>\n",
       "    </tr>\n",
       "    <tr>\n",
       "      <th>Clark</th>\n",
       "      <td>20</td>\n",
       "      <td>Billy</td>\n",
       "      <td>62-(213)345-2549</td>\n",
       "      <td>Asia/Makassar</td>\n",
       "    </tr>\n",
       "    <tr>\n",
       "      <th>Andrews</th>\n",
       "      <td>23</td>\n",
       "      <td>Billy</td>\n",
       "      <td>86-(859)746-5367</td>\n",
       "      <td>Asia/Chongqing</td>\n",
       "    </tr>\n",
       "    <tr>\n",
       "      <th>Price</th>\n",
       "      <td>59</td>\n",
       "      <td>Billy</td>\n",
       "      <td>86-(878)547-7739</td>\n",
       "      <td>Asia/Shanghai</td>\n",
       "    </tr>\n",
       "    <tr>\n",
       "      <th>Franklin</th>\n",
       "      <td>82</td>\n",
       "      <td>Arthur</td>\n",
       "      <td>86-(599)522-0287</td>\n",
       "      <td>Asia/Chongqing</td>\n",
       "    </tr>\n",
       "    <tr>\n",
       "      <th>Henderson</th>\n",
       "      <td>96</td>\n",
       "      <td>Arthur</td>\n",
       "      <td>81-(353)751-4060</td>\n",
       "      <td>Asia/Tokyo</td>\n",
       "    </tr>\n",
       "  </tbody>\n",
       "</table>\n",
       "</div>"
      ],
      "text/plain": [
       "            id first_name       Phone Number       Time zone\n",
       "last_name                                                   \n",
       "Richardson   1      Peter    7-(789)867-9023   Europe/Moscow\n",
       "Mcdonald     4     Arthur  420-(553)779-7783   Europe/Prague\n",
       "Clark       20      Billy   62-(213)345-2549   Asia/Makassar\n",
       "Andrews     23      Billy   86-(859)746-5367  Asia/Chongqing\n",
       "Price       59      Billy   86-(878)547-7739   Asia/Shanghai\n",
       "Franklin    82     Arthur   86-(599)522-0287  Asia/Chongqing\n",
       "Henderson   96     Arthur   81-(353)751-4060      Asia/Tokyo"
      ]
     },
     "execution_count": 45,
     "metadata": {},
     "output_type": "execute_result"
    }
   ],
   "source": [
    "name = ['Billy', 'Peter', 'Arthur']\n",
    "df[df['first_name'].isin(name)]"
   ]
  },
  {
   "cell_type": "code",
   "execution_count": null,
   "metadata": {},
   "outputs": [],
   "source": []
  }
 ],
 "metadata": {
  "kernelspec": {
   "display_name": "Python 3",
   "language": "python",
   "name": "python3"
  },
  "language_info": {
   "codemirror_mode": {
    "name": "ipython",
    "version": 3
   },
   "file_extension": ".py",
   "mimetype": "text/x-python",
   "name": "python",
   "nbconvert_exporter": "python",
   "pygments_lexer": "ipython3",
   "version": "3.7.7"
  }
 },
 "nbformat": 4,
 "nbformat_minor": 4
}
