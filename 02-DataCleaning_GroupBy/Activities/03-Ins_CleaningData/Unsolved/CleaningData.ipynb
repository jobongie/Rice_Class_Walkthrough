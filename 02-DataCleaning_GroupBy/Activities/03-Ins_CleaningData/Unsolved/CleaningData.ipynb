{
 "cells": [
  {
   "cell_type": "markdown",
   "metadata": {},
   "source": [
    "# Data Cleansing\n",
    "\n",
    "Data cleansing is not the most exciting aspect of work in the data analytics space, but it can be one of the most influential. Properly formatting and preprocessing our data can mean the difference between a well-constructed analysis and a blatantly false one. Unfortunately, there is no one-size-fits-all approach to this task, as each analysis relies on different datasets with varying levels of \"messiness\". Below are just a few examples of what can be done to clean up some messy data.\n",
    "\n",
    "## Objectives:\n",
    "- Investigate null values\n",
    "- Change data type of dataframe column\n",
    "- Harmonize variations of the same categorical value"
   ]
  },
  {
   "cell_type": "markdown",
   "metadata": {},
   "source": [
    "#### Import dependencies"
   ]
  },
  {
   "cell_type": "code",
   "execution_count": 15,
   "metadata": {},
   "outputs": [],
   "source": [
    "import pandas as pd\n",
    "import os"
   ]
  },
  {
   "cell_type": "markdown",
   "metadata": {},
   "source": [
    "#### Read the donors csv and display the first few rows\n",
    "\n",
    "**IMPORTANT NOTE:** In the `read_csv()` function, I'm including an argument for `dtype=str`. This is telling pandas to read all columns in as strings. I'm only doing this so I can show you how to change the `Amount` column to numeric later in this notebook. You will not include this `dtype=str` argument in any of your notebooks unless you want to predefine all datatypes."
   ]
  },
  {
   "cell_type": "code",
   "execution_count": 16,
   "metadata": {
    "inputHidden": false,
    "outputHidden": false
   },
   "outputs": [
    {
     "data": {
      "text/html": [
       "<div>\n",
       "<style scoped>\n",
       "    .dataframe tbody tr th:only-of-type {\n",
       "        vertical-align: middle;\n",
       "    }\n",
       "\n",
       "    .dataframe tbody tr th {\n",
       "        vertical-align: top;\n",
       "    }\n",
       "\n",
       "    .dataframe thead th {\n",
       "        text-align: right;\n",
       "    }\n",
       "</style>\n",
       "<table border=\"1\" class=\"dataframe\">\n",
       "  <thead>\n",
       "    <tr style=\"text-align: right;\">\n",
       "      <th></th>\n",
       "      <th>LastName</th>\n",
       "      <th>FirstName</th>\n",
       "      <th>Employer</th>\n",
       "      <th>City</th>\n",
       "      <th>State</th>\n",
       "      <th>Zip</th>\n",
       "      <th>Amount</th>\n",
       "      <th>FIELD8</th>\n",
       "    </tr>\n",
       "  </thead>\n",
       "  <tbody>\n",
       "    <tr>\n",
       "      <th>0</th>\n",
       "      <td>Aaron</td>\n",
       "      <td>Eugene</td>\n",
       "      <td>State Department</td>\n",
       "      <td>Dulles</td>\n",
       "      <td>VA</td>\n",
       "      <td>20189</td>\n",
       "      <td>500</td>\n",
       "      <td>NaN</td>\n",
       "    </tr>\n",
       "    <tr>\n",
       "      <th>1</th>\n",
       "      <td>Abadi</td>\n",
       "      <td>Barbara</td>\n",
       "      <td>Abadi &amp; Co.</td>\n",
       "      <td>New York</td>\n",
       "      <td>NY</td>\n",
       "      <td>10021</td>\n",
       "      <td>200</td>\n",
       "      <td>NaN</td>\n",
       "    </tr>\n",
       "    <tr>\n",
       "      <th>2</th>\n",
       "      <td>Adamany</td>\n",
       "      <td>Anthony</td>\n",
       "      <td>Retired</td>\n",
       "      <td>Rockford</td>\n",
       "      <td>IL</td>\n",
       "      <td>61103</td>\n",
       "      <td>500</td>\n",
       "      <td>NaN</td>\n",
       "    </tr>\n",
       "    <tr>\n",
       "      <th>3</th>\n",
       "      <td>Adams</td>\n",
       "      <td>Lorraine</td>\n",
       "      <td>Self</td>\n",
       "      <td>New York</td>\n",
       "      <td>NY</td>\n",
       "      <td>10026</td>\n",
       "      <td>200</td>\n",
       "      <td>NaN</td>\n",
       "    </tr>\n",
       "    <tr>\n",
       "      <th>4</th>\n",
       "      <td>Adams</td>\n",
       "      <td>Marion</td>\n",
       "      <td>None</td>\n",
       "      <td>Exeter</td>\n",
       "      <td>NH</td>\n",
       "      <td>03833</td>\n",
       "      <td>100</td>\n",
       "      <td>NaN</td>\n",
       "    </tr>\n",
       "  </tbody>\n",
       "</table>\n",
       "</div>"
      ],
      "text/plain": [
       "  LastName FirstName          Employer      City State    Zip Amount FIELD8\n",
       "0    Aaron    Eugene  State Department    Dulles    VA  20189    500    NaN\n",
       "1    Abadi   Barbara       Abadi & Co.  New York    NY  10021    200    NaN\n",
       "2  Adamany   Anthony           Retired  Rockford    IL  61103    500    NaN\n",
       "3    Adams  Lorraine              Self  New York    NY  10026    200    NaN\n",
       "4    Adams    Marion              None    Exeter    NH  03833    100    NaN"
      ]
     },
     "execution_count": 16,
     "metadata": {},
     "output_type": "execute_result"
    }
   ],
   "source": [
    "file = os.path.join(\"..\", \"Resources\", \"donors2008.csv\")\n",
    "\n",
    "# The correct encoding must be used to read the CSV in pandas\n",
    "df = pd.read_csv(file, encoding=\"ISO-8859-1\", dtype=str)\n",
    "df.head()"
   ]
  },
  {
   "cell_type": "markdown",
   "metadata": {},
   "source": [
    "___\n",
    "\n",
    "## Handling Null Values\n",
    "\n",
    "From the output above, we can already see that we may have a problem with the *FIELD8* column, but let's thoroughly investigate.\n",
    "\n",
    "#### Identify which columns contain null values"
   ]
  },
  {
   "cell_type": "code",
   "execution_count": 17,
   "metadata": {},
   "outputs": [
    {
     "data": {
      "text/plain": [
       "LastName     False\n",
       "FirstName    False\n",
       "Employer      True\n",
       "City         False\n",
       "State        False\n",
       "Zip          False\n",
       "Amount       False\n",
       "FIELD8        True\n",
       "dtype: bool"
      ]
     },
     "execution_count": 17,
     "metadata": {},
     "output_type": "execute_result"
    }
   ],
   "source": [
    "df.isnull().any()"
   ]
  },
  {
   "cell_type": "markdown",
   "metadata": {},
   "source": [
    "#### Identify how with complete each column is\n",
    "\n",
    "At this point, we can confirm that **FIELD8** doesn't actually contain any data, so it should be safe to delete."
   ]
  },
  {
   "cell_type": "code",
   "execution_count": 18,
   "metadata": {
    "inputHidden": false,
    "outputHidden": false
   },
   "outputs": [
    {
     "data": {
      "text/plain": [
       "LastName     1776\n",
       "FirstName    1776\n",
       "Employer     1743\n",
       "City         1776\n",
       "State        1776\n",
       "Zip          1776\n",
       "Amount       1776\n",
       "FIELD8          0\n",
       "dtype: int64"
      ]
     },
     "execution_count": 18,
     "metadata": {},
     "output_type": "execute_result"
    }
   ],
   "source": [
    "df.count()"
   ]
  },
  {
   "cell_type": "markdown",
   "metadata": {},
   "source": [
    "#### Delete extraneous column"
   ]
  },
  {
   "cell_type": "code",
   "execution_count": 19,
   "metadata": {
    "inputHidden": false,
    "outputHidden": false
   },
   "outputs": [
    {
     "data": {
      "text/html": [
       "<div>\n",
       "<style scoped>\n",
       "    .dataframe tbody tr th:only-of-type {\n",
       "        vertical-align: middle;\n",
       "    }\n",
       "\n",
       "    .dataframe tbody tr th {\n",
       "        vertical-align: top;\n",
       "    }\n",
       "\n",
       "    .dataframe thead th {\n",
       "        text-align: right;\n",
       "    }\n",
       "</style>\n",
       "<table border=\"1\" class=\"dataframe\">\n",
       "  <thead>\n",
       "    <tr style=\"text-align: right;\">\n",
       "      <th></th>\n",
       "      <th>LastName</th>\n",
       "      <th>FirstName</th>\n",
       "      <th>Employer</th>\n",
       "      <th>City</th>\n",
       "      <th>State</th>\n",
       "      <th>Zip</th>\n",
       "      <th>Amount</th>\n",
       "    </tr>\n",
       "  </thead>\n",
       "  <tbody>\n",
       "    <tr>\n",
       "      <th>0</th>\n",
       "      <td>Aaron</td>\n",
       "      <td>Eugene</td>\n",
       "      <td>State Department</td>\n",
       "      <td>Dulles</td>\n",
       "      <td>VA</td>\n",
       "      <td>20189</td>\n",
       "      <td>500</td>\n",
       "    </tr>\n",
       "    <tr>\n",
       "      <th>1</th>\n",
       "      <td>Abadi</td>\n",
       "      <td>Barbara</td>\n",
       "      <td>Abadi &amp; Co.</td>\n",
       "      <td>New York</td>\n",
       "      <td>NY</td>\n",
       "      <td>10021</td>\n",
       "      <td>200</td>\n",
       "    </tr>\n",
       "    <tr>\n",
       "      <th>2</th>\n",
       "      <td>Adamany</td>\n",
       "      <td>Anthony</td>\n",
       "      <td>Retired</td>\n",
       "      <td>Rockford</td>\n",
       "      <td>IL</td>\n",
       "      <td>61103</td>\n",
       "      <td>500</td>\n",
       "    </tr>\n",
       "    <tr>\n",
       "      <th>3</th>\n",
       "      <td>Adams</td>\n",
       "      <td>Lorraine</td>\n",
       "      <td>Self</td>\n",
       "      <td>New York</td>\n",
       "      <td>NY</td>\n",
       "      <td>10026</td>\n",
       "      <td>200</td>\n",
       "    </tr>\n",
       "    <tr>\n",
       "      <th>4</th>\n",
       "      <td>Adams</td>\n",
       "      <td>Marion</td>\n",
       "      <td>None</td>\n",
       "      <td>Exeter</td>\n",
       "      <td>NH</td>\n",
       "      <td>03833</td>\n",
       "      <td>100</td>\n",
       "    </tr>\n",
       "  </tbody>\n",
       "</table>\n",
       "</div>"
      ],
      "text/plain": [
       "  LastName FirstName          Employer      City State    Zip Amount\n",
       "0    Aaron    Eugene  State Department    Dulles    VA  20189    500\n",
       "1    Abadi   Barbara       Abadi & Co.  New York    NY  10021    200\n",
       "2  Adamany   Anthony           Retired  Rockford    IL  61103    500\n",
       "3    Adams  Lorraine              Self  New York    NY  10026    200\n",
       "4    Adams    Marion              None    Exeter    NH  03833    100"
      ]
     },
     "execution_count": 19,
     "metadata": {},
     "output_type": "execute_result"
    }
   ],
   "source": [
    "del df['FIELD8']\n",
    "df.head()"
   ]
  },
  {
   "cell_type": "markdown",
   "metadata": {},
   "source": [
    "___\n",
    "# Is it necessary to investigate further? \n",
    "### It depends on our intentions\n",
    "___"
   ]
  },
  {
   "cell_type": "markdown",
   "metadata": {},
   "source": [
    "#### Look at the rows that contain at least one null value"
   ]
  },
  {
   "cell_type": "code",
   "execution_count": 20,
   "metadata": {},
   "outputs": [
    {
     "data": {
      "text/plain": [
       "0       False\n",
       "1       False\n",
       "2       False\n",
       "3       False\n",
       "4       False\n",
       "        ...  \n",
       "1771    False\n",
       "1772     True\n",
       "1773     True\n",
       "1774    False\n",
       "1775    False\n",
       "Length: 1776, dtype: bool"
      ]
     },
     "execution_count": 20,
     "metadata": {},
     "output_type": "execute_result"
    }
   ],
   "source": [
    "df.isnull().any(axis=1)"
   ]
  },
  {
   "cell_type": "markdown",
   "metadata": {},
   "source": [
    "#### Investigate the rows with null values"
   ]
  },
  {
   "cell_type": "code",
   "execution_count": 21,
   "metadata": {},
   "outputs": [
    {
     "data": {
      "text/html": [
       "<div>\n",
       "<style scoped>\n",
       "    .dataframe tbody tr th:only-of-type {\n",
       "        vertical-align: middle;\n",
       "    }\n",
       "\n",
       "    .dataframe tbody tr th {\n",
       "        vertical-align: top;\n",
       "    }\n",
       "\n",
       "    .dataframe thead th {\n",
       "        text-align: right;\n",
       "    }\n",
       "</style>\n",
       "<table border=\"1\" class=\"dataframe\">\n",
       "  <thead>\n",
       "    <tr style=\"text-align: right;\">\n",
       "      <th></th>\n",
       "      <th>LastName</th>\n",
       "      <th>FirstName</th>\n",
       "      <th>Employer</th>\n",
       "      <th>City</th>\n",
       "      <th>State</th>\n",
       "      <th>Zip</th>\n",
       "      <th>Amount</th>\n",
       "    </tr>\n",
       "  </thead>\n",
       "  <tbody>\n",
       "    <tr>\n",
       "      <th>13</th>\n",
       "      <td>Ahuja</td>\n",
       "      <td>Maria T.</td>\n",
       "      <td>NaN</td>\n",
       "      <td>New York</td>\n",
       "      <td>NY</td>\n",
       "      <td>10021</td>\n",
       "      <td>1000</td>\n",
       "    </tr>\n",
       "    <tr>\n",
       "      <th>126</th>\n",
       "      <td>Berger</td>\n",
       "      <td>Harriet</td>\n",
       "      <td>NaN</td>\n",
       "      <td>Philadelphia</td>\n",
       "      <td>PA</td>\n",
       "      <td>19129</td>\n",
       "      <td>5000</td>\n",
       "    </tr>\n",
       "    <tr>\n",
       "      <th>149</th>\n",
       "      <td>Block</td>\n",
       "      <td>Milton</td>\n",
       "      <td>NaN</td>\n",
       "      <td>Naples</td>\n",
       "      <td>NY</td>\n",
       "      <td>14512</td>\n",
       "      <td>200</td>\n",
       "    </tr>\n",
       "    <tr>\n",
       "      <th>400</th>\n",
       "      <td>Donelan</td>\n",
       "      <td>Myrna</td>\n",
       "      <td>NaN</td>\n",
       "      <td>Durham</td>\n",
       "      <td>NC</td>\n",
       "      <td>27707-5711</td>\n",
       "      <td>250</td>\n",
       "    </tr>\n",
       "    <tr>\n",
       "      <th>460</th>\n",
       "      <td>Faber</td>\n",
       "      <td>Suzanne</td>\n",
       "      <td>NaN</td>\n",
       "      <td>Chicago</td>\n",
       "      <td>IL</td>\n",
       "      <td>60611</td>\n",
       "      <td>5000</td>\n",
       "    </tr>\n",
       "    <tr>\n",
       "      <th>491</th>\n",
       "      <td>Fizdale</td>\n",
       "      <td>Richard</td>\n",
       "      <td>NaN</td>\n",
       "      <td>Chicago</td>\n",
       "      <td>IL</td>\n",
       "      <td>60611</td>\n",
       "      <td>5000</td>\n",
       "    </tr>\n",
       "    <tr>\n",
       "      <th>519</th>\n",
       "      <td>Fritsch</td>\n",
       "      <td>Claudia</td>\n",
       "      <td>NaN</td>\n",
       "      <td>Atlanta</td>\n",
       "      <td>GA</td>\n",
       "      <td>30319</td>\n",
       "      <td>250</td>\n",
       "    </tr>\n",
       "    <tr>\n",
       "      <th>543</th>\n",
       "      <td>Gaylord</td>\n",
       "      <td>Marilyn</td>\n",
       "      <td>NaN</td>\n",
       "      <td>Lacey</td>\n",
       "      <td>WA</td>\n",
       "      <td>98503-2547</td>\n",
       "      <td>50</td>\n",
       "    </tr>\n",
       "    <tr>\n",
       "      <th>566</th>\n",
       "      <td>Gilbert</td>\n",
       "      <td>Barbara</td>\n",
       "      <td>NaN</td>\n",
       "      <td>Nicholasville</td>\n",
       "      <td>KY</td>\n",
       "      <td>40356</td>\n",
       "      <td>100</td>\n",
       "    </tr>\n",
       "    <tr>\n",
       "      <th>608</th>\n",
       "      <td>Graves</td>\n",
       "      <td>Scott</td>\n",
       "      <td>NaN</td>\n",
       "      <td>Arlington</td>\n",
       "      <td>VA</td>\n",
       "      <td>22201</td>\n",
       "      <td>50</td>\n",
       "    </tr>\n",
       "    <tr>\n",
       "      <th>619</th>\n",
       "      <td>Griesbach</td>\n",
       "      <td>Marga</td>\n",
       "      <td>NaN</td>\n",
       "      <td>Silverdale</td>\n",
       "      <td>WA</td>\n",
       "      <td>98383</td>\n",
       "      <td>200</td>\n",
       "    </tr>\n",
       "    <tr>\n",
       "      <th>653</th>\n",
       "      <td>Hansen</td>\n",
       "      <td>Tom</td>\n",
       "      <td>NaN</td>\n",
       "      <td>Blue Springs</td>\n",
       "      <td>MO</td>\n",
       "      <td>64015</td>\n",
       "      <td>100</td>\n",
       "    </tr>\n",
       "    <tr>\n",
       "      <th>756</th>\n",
       "      <td>Ilyinsky</td>\n",
       "      <td>Michael</td>\n",
       "      <td>NaN</td>\n",
       "      <td>Cincinnati</td>\n",
       "      <td>OH</td>\n",
       "      <td>45243</td>\n",
       "      <td>250</td>\n",
       "    </tr>\n",
       "    <tr>\n",
       "      <th>915</th>\n",
       "      <td>Lawson</td>\n",
       "      <td>Peter</td>\n",
       "      <td>NaN</td>\n",
       "      <td>Valley Ford</td>\n",
       "      <td>CA</td>\n",
       "      <td>94972-0563</td>\n",
       "      <td>200</td>\n",
       "    </tr>\n",
       "    <tr>\n",
       "      <th>960</th>\n",
       "      <td>Low</td>\n",
       "      <td>Dixon</td>\n",
       "      <td>NaN</td>\n",
       "      <td>Roanoke</td>\n",
       "      <td>VA</td>\n",
       "      <td>24018</td>\n",
       "      <td>250</td>\n",
       "    </tr>\n",
       "    <tr>\n",
       "      <th>988</th>\n",
       "      <td>Manilow</td>\n",
       "      <td>Lewis</td>\n",
       "      <td>NaN</td>\n",
       "      <td>Chicago</td>\n",
       "      <td>IL</td>\n",
       "      <td>60610</td>\n",
       "      <td>5000</td>\n",
       "    </tr>\n",
       "    <tr>\n",
       "      <th>995</th>\n",
       "      <td>Mardirossian</td>\n",
       "      <td>Marianne</td>\n",
       "      <td>NaN</td>\n",
       "      <td>Potomac</td>\n",
       "      <td>MD</td>\n",
       "      <td>20859</td>\n",
       "      <td>5000</td>\n",
       "    </tr>\n",
       "    <tr>\n",
       "      <th>1057</th>\n",
       "      <td>Mcmorris</td>\n",
       "      <td>Bertha</td>\n",
       "      <td>NaN</td>\n",
       "      <td>Chicago</td>\n",
       "      <td>IL</td>\n",
       "      <td>60637</td>\n",
       "      <td>5000</td>\n",
       "    </tr>\n",
       "    <tr>\n",
       "      <th>1124</th>\n",
       "      <td>Nadeau</td>\n",
       "      <td>Bart</td>\n",
       "      <td>NaN</td>\n",
       "      <td>San Francisco</td>\n",
       "      <td>CA</td>\n",
       "      <td>94131</td>\n",
       "      <td>200</td>\n",
       "    </tr>\n",
       "    <tr>\n",
       "      <th>1226</th>\n",
       "      <td>Peterson</td>\n",
       "      <td>James</td>\n",
       "      <td>NaN</td>\n",
       "      <td>Shawnee</td>\n",
       "      <td>KS</td>\n",
       "      <td>66216</td>\n",
       "      <td>250</td>\n",
       "    </tr>\n",
       "    <tr>\n",
       "      <th>1311</th>\n",
       "      <td>Richardson</td>\n",
       "      <td>Jon</td>\n",
       "      <td>NaN</td>\n",
       "      <td>York</td>\n",
       "      <td>ME</td>\n",
       "      <td>03909</td>\n",
       "      <td>200</td>\n",
       "    </tr>\n",
       "    <tr>\n",
       "      <th>1362</th>\n",
       "      <td>Ryan</td>\n",
       "      <td>Melanie</td>\n",
       "      <td>NaN</td>\n",
       "      <td>Gahanna</td>\n",
       "      <td>OH</td>\n",
       "      <td>43230</td>\n",
       "      <td>100</td>\n",
       "    </tr>\n",
       "    <tr>\n",
       "      <th>1416</th>\n",
       "      <td>Seyal</td>\n",
       "      <td>Sara</td>\n",
       "      <td>NaN</td>\n",
       "      <td>Prospect</td>\n",
       "      <td>KY</td>\n",
       "      <td>40059</td>\n",
       "      <td>100</td>\n",
       "    </tr>\n",
       "    <tr>\n",
       "      <th>1459</th>\n",
       "      <td>Skinner</td>\n",
       "      <td>Nancy</td>\n",
       "      <td>NaN</td>\n",
       "      <td>Newport Beach</td>\n",
       "      <td>CA</td>\n",
       "      <td>92660</td>\n",
       "      <td>50</td>\n",
       "    </tr>\n",
       "    <tr>\n",
       "      <th>1621</th>\n",
       "      <td>Vail Aycox</td>\n",
       "      <td>Leslie</td>\n",
       "      <td>NaN</td>\n",
       "      <td>Alpharetta</td>\n",
       "      <td>GA</td>\n",
       "      <td>30022</td>\n",
       "      <td>5000</td>\n",
       "    </tr>\n",
       "    <tr>\n",
       "      <th>1689</th>\n",
       "      <td>Welters</td>\n",
       "      <td>Beatrice</td>\n",
       "      <td>NaN</td>\n",
       "      <td>Mclean</td>\n",
       "      <td>VA</td>\n",
       "      <td>22101</td>\n",
       "      <td>5000</td>\n",
       "    </tr>\n",
       "    <tr>\n",
       "      <th>1704</th>\n",
       "      <td>White Jr</td>\n",
       "      <td>Frank</td>\n",
       "      <td>NaN</td>\n",
       "      <td>Silver Spring</td>\n",
       "      <td>MD</td>\n",
       "      <td>20904</td>\n",
       "      <td>5000</td>\n",
       "    </tr>\n",
       "    <tr>\n",
       "      <th>1707</th>\n",
       "      <td>Whitney</td>\n",
       "      <td>John</td>\n",
       "      <td>NaN</td>\n",
       "      <td>Los Angeles</td>\n",
       "      <td>CA</td>\n",
       "      <td>90035</td>\n",
       "      <td>200</td>\n",
       "    </tr>\n",
       "    <tr>\n",
       "      <th>1713</th>\n",
       "      <td>Wilde</td>\n",
       "      <td>Margaret</td>\n",
       "      <td>NaN</td>\n",
       "      <td>Eatonton</td>\n",
       "      <td>GA</td>\n",
       "      <td>31024</td>\n",
       "      <td>500</td>\n",
       "    </tr>\n",
       "    <tr>\n",
       "      <th>1718</th>\n",
       "      <td>Willis</td>\n",
       "      <td>Mary</td>\n",
       "      <td>NaN</td>\n",
       "      <td>Langley</td>\n",
       "      <td>WA</td>\n",
       "      <td>98260</td>\n",
       "      <td>200</td>\n",
       "    </tr>\n",
       "    <tr>\n",
       "      <th>1736</th>\n",
       "      <td>Wolf</td>\n",
       "      <td>Michael</td>\n",
       "      <td>NaN</td>\n",
       "      <td>New York</td>\n",
       "      <td>NY</td>\n",
       "      <td>10013</td>\n",
       "      <td>5000</td>\n",
       "    </tr>\n",
       "    <tr>\n",
       "      <th>1772</th>\n",
       "      <td>Zschiesche</td>\n",
       "      <td>Peter</td>\n",
       "      <td>NaN</td>\n",
       "      <td>San Diego</td>\n",
       "      <td>CA</td>\n",
       "      <td>92104</td>\n",
       "      <td>250</td>\n",
       "    </tr>\n",
       "    <tr>\n",
       "      <th>1773</th>\n",
       "      <td>Zweidinger</td>\n",
       "      <td>Ruth</td>\n",
       "      <td>NaN</td>\n",
       "      <td>Hillsborough</td>\n",
       "      <td>NC</td>\n",
       "      <td>27278</td>\n",
       "      <td>250</td>\n",
       "    </tr>\n",
       "  </tbody>\n",
       "</table>\n",
       "</div>"
      ],
      "text/plain": [
       "          LastName FirstName Employer           City State         Zip Amount\n",
       "13           Ahuja  Maria T.      NaN       New York    NY       10021   1000\n",
       "126         Berger   Harriet      NaN   Philadelphia    PA       19129   5000\n",
       "149          Block    Milton      NaN         Naples    NY       14512    200\n",
       "400        Donelan     Myrna      NaN         Durham    NC  27707-5711    250\n",
       "460          Faber   Suzanne      NaN        Chicago    IL       60611   5000\n",
       "491        Fizdale   Richard      NaN        Chicago    IL       60611   5000\n",
       "519        Fritsch   Claudia      NaN        Atlanta    GA       30319    250\n",
       "543        Gaylord   Marilyn      NaN          Lacey    WA  98503-2547     50\n",
       "566        Gilbert   Barbara      NaN  Nicholasville    KY       40356    100\n",
       "608         Graves     Scott      NaN      Arlington    VA       22201     50\n",
       "619      Griesbach     Marga      NaN     Silverdale    WA       98383    200\n",
       "653         Hansen       Tom      NaN   Blue Springs    MO       64015    100\n",
       "756       Ilyinsky   Michael      NaN     Cincinnati    OH       45243    250\n",
       "915         Lawson     Peter      NaN    Valley Ford    CA  94972-0563    200\n",
       "960            Low     Dixon      NaN        Roanoke    VA       24018    250\n",
       "988        Manilow     Lewis      NaN        Chicago    IL       60610   5000\n",
       "995   Mardirossian  Marianne      NaN        Potomac    MD       20859   5000\n",
       "1057      Mcmorris    Bertha      NaN        Chicago    IL       60637   5000\n",
       "1124        Nadeau      Bart      NaN  San Francisco    CA       94131    200\n",
       "1226      Peterson     James      NaN        Shawnee    KS       66216    250\n",
       "1311    Richardson       Jon      NaN           York    ME       03909    200\n",
       "1362          Ryan   Melanie      NaN        Gahanna    OH       43230    100\n",
       "1416         Seyal      Sara      NaN       Prospect    KY       40059    100\n",
       "1459       Skinner     Nancy      NaN  Newport Beach    CA       92660     50\n",
       "1621    Vail Aycox    Leslie      NaN     Alpharetta    GA       30022   5000\n",
       "1689       Welters  Beatrice      NaN         Mclean    VA       22101   5000\n",
       "1704      White Jr     Frank      NaN  Silver Spring    MD       20904   5000\n",
       "1707       Whitney      John      NaN    Los Angeles    CA       90035    200\n",
       "1713         Wilde  Margaret      NaN       Eatonton    GA       31024    500\n",
       "1718        Willis      Mary      NaN        Langley    WA       98260    200\n",
       "1736          Wolf   Michael      NaN       New York    NY       10013   5000\n",
       "1772    Zschiesche     Peter      NaN      San Diego    CA       92104    250\n",
       "1773    Zweidinger      Ruth      NaN   Hillsborough    NC       27278    250"
      ]
     },
     "execution_count": 21,
     "metadata": {},
     "output_type": "execute_result"
    }
   ],
   "source": [
    "# Shows the rows with nulls and allows you to investigate\n",
    "df[df.isnull().any(axis=1)]"
   ]
  },
  {
   "cell_type": "markdown",
   "metadata": {},
   "source": [
    "#### Drop all rows with missing information\n",
    "\n",
    "**BE CAREFUL WITH THIS**"
   ]
  },
  {
   "cell_type": "code",
   "execution_count": 22,
   "metadata": {
    "inputHidden": false,
    "outputHidden": false
   },
   "outputs": [],
   "source": [
    "df = df.dropna()\n",
    "# how = all only drops rows if all values in row are null\n",
    "#df = df.dropna(how = \"all\")"
   ]
  },
  {
   "cell_type": "markdown",
   "metadata": {},
   "source": [
    "#### Verify dropped rows"
   ]
  },
  {
   "cell_type": "code",
   "execution_count": 23,
   "metadata": {
    "inputHidden": false,
    "outputHidden": false
   },
   "outputs": [
    {
     "data": {
      "text/plain": [
       "LastName     1743\n",
       "FirstName    1743\n",
       "Employer     1743\n",
       "City         1743\n",
       "State        1743\n",
       "Zip          1743\n",
       "Amount       1743\n",
       "dtype: int64"
      ]
     },
     "execution_count": 23,
     "metadata": {},
     "output_type": "execute_result"
    }
   ],
   "source": [
    "df.count()"
   ]
  },
  {
   "cell_type": "markdown",
   "metadata": {},
   "source": [
    "___\n",
    "## Handling Incorrect Data Types\n",
    "\n",
    "Pandas is pretty good at inferring the datatypes in your data files, but sometimes it gets this wrong. Below we'll look at how we can change the datatype for a particular column."
   ]
  },
  {
   "cell_type": "markdown",
   "metadata": {},
   "source": [
    "#### The *Amount* column is the wrong data type"
   ]
  },
  {
   "cell_type": "code",
   "execution_count": 24,
   "metadata": {
    "inputHidden": false,
    "outputHidden": false
   },
   "outputs": [
    {
     "data": {
      "text/plain": [
       "LastName     object\n",
       "FirstName    object\n",
       "Employer     object\n",
       "City         object\n",
       "State        object\n",
       "Zip          object\n",
       "Amount       object\n",
       "dtype: object"
      ]
     },
     "execution_count": 24,
     "metadata": {},
     "output_type": "execute_result"
    }
   ],
   "source": [
    "df.dtypes"
   ]
  },
  {
   "cell_type": "markdown",
   "metadata": {},
   "source": [
    "#### Use `pd.to_numeric()` method to convert the datatype of the *Amount* column"
   ]
  },
  {
   "cell_type": "code",
   "execution_count": 27,
   "metadata": {
    "inputHidden": false,
    "outputHidden": false
   },
   "outputs": [],
   "source": [
    "df['Amount'] = pd.to_numeric(df['Amount'])"
   ]
  },
  {
   "cell_type": "markdown",
   "metadata": {},
   "source": [
    "#### Verify that the *Amount* column datatype has been made numeric"
   ]
  },
  {
   "cell_type": "code",
   "execution_count": 28,
   "metadata": {
    "inputHidden": false,
    "outputHidden": false
   },
   "outputs": [
    {
     "data": {
      "text/plain": [
       "LastName      object\n",
       "FirstName     object\n",
       "Employer      object\n",
       "City          object\n",
       "State         object\n",
       "Zip           object\n",
       "Amount       float64\n",
       "dtype: object"
      ]
     },
     "execution_count": 28,
     "metadata": {},
     "output_type": "execute_result"
    }
   ],
   "source": [
    "df.dtypes"
   ]
  },
  {
   "cell_type": "markdown",
   "metadata": {},
   "source": [
    "___\n",
    "# Normalizing Categorical Values\n",
    "Oftentimes poorly governed data sources will have multiple variations of categorical values. This can cause issues with us underrepresenting a particular subset of our data unless we take action to clean this up. Below we'll see how we can merge variations of these values into a single instance."
   ]
  },
  {
   "cell_type": "markdown",
   "metadata": {},
   "source": [
    "#### Display an overview of the *Employer* column"
   ]
  },
  {
   "cell_type": "code",
   "execution_count": 32,
   "metadata": {
    "inputHidden": false,
    "outputHidden": false
   },
   "outputs": [
    {
     "data": {
      "text/plain": [
       "None                              249\n",
       "Self                              241\n",
       "Retired                           126\n",
       "Self Employed                      39\n",
       "Self-Employed                      34\n",
       "Google                              6\n",
       "Unemployed                          4\n",
       "Not Employed                        4\n",
       "University of California            3\n",
       "Social Security Administration      3\n",
       "Bank Of America                     3\n",
       "Newton Public Schools               2\n",
       "LMI                                 2\n",
       "Kaiser Permanente                   2\n",
       "State Department                    2\n",
       "Mayer Brown                         2\n",
       "Northern Trust                      2\n",
       "Berger & Montague                   2\n",
       "Federal Government                  2\n",
       "UCLA                                2\n",
       "Freelance                           2\n",
       "University Hospital                 2\n",
       "Davis Polk & Wardwell               2\n",
       "United Health Group                 2\n",
       "Sidley Austin LLP                   2\n",
       "Name: Employer, dtype: int64"
      ]
     },
     "execution_count": 32,
     "metadata": {},
     "output_type": "execute_result"
    }
   ],
   "source": [
    "df['Employer'].value_counts().head(25)"
   ]
  },
  {
   "cell_type": "markdown",
   "metadata": {},
   "source": [
    "#### Clean up *Employer* category. Replace *'Self Employed'* and *'Self'* with *'Self-Employed'*"
   ]
  },
  {
   "cell_type": "code",
   "execution_count": 33,
   "metadata": {
    "inputHidden": false,
    "outputHidden": false
   },
   "outputs": [],
   "source": [
    "#takes in a dictionary\n",
    "\n",
    "df['Employer']=df['Employer'].replace({\"Self Emplyed\":\"Self-Employed\",\"Self\":\"Self-Employed\"})"
   ]
  },
  {
   "cell_type": "markdown",
   "metadata": {},
   "source": [
    "#### Verify clean-up"
   ]
  },
  {
   "cell_type": "code",
   "execution_count": 34,
   "metadata": {
    "inputHidden": false,
    "outputHidden": false
   },
   "outputs": [
    {
     "data": {
      "text/plain": [
       "Self-Employed                     275\n",
       "None                              249\n",
       "Retired                           126\n",
       "Self Employed                      39\n",
       "Google                              6\n",
       "Unemployed                          4\n",
       "Not Employed                        4\n",
       "University of California            3\n",
       "Social Security Administration      3\n",
       "Bank Of America                     3\n",
       "United Health Group                 2\n",
       "Berger & Montague                   2\n",
       "Kaiser Permanente                   2\n",
       "Davis Polk & Wardwell               2\n",
       "University of Michigan              2\n",
       "Northern Trust                      2\n",
       "State Department                    2\n",
       "University Hospital                 2\n",
       "UCLA                                2\n",
       "University of Washington            2\n",
       "Federal Government                  2\n",
       "Newton Public Schools               2\n",
       "Covington & Burling                 2\n",
       "Freelance                           2\n",
       "Ariel Investments                   2\n",
       "Name: Employer, dtype: int64"
      ]
     },
     "execution_count": 34,
     "metadata": {},
     "output_type": "execute_result"
    }
   ],
   "source": [
    "df['Employer'].value_counts().head(25)"
   ]
  },
  {
   "cell_type": "markdown",
   "metadata": {},
   "source": [
    "#### Clean up variations of *'Unemployed'*"
   ]
  },
  {
   "cell_type": "code",
   "execution_count": null,
   "metadata": {
    "inputHidden": false,
    "outputHidden": false
   },
   "outputs": [],
   "source": []
  }
 ],
 "metadata": {
  "anaconda-cloud": {},
  "kernel_info": {
   "name": "python3"
  },
  "kernelspec": {
   "display_name": "Python 3",
   "language": "python",
   "name": "python3"
  },
  "language_info": {
   "codemirror_mode": {
    "name": "ipython",
    "version": 3
   },
   "file_extension": ".py",
   "mimetype": "text/x-python",
   "name": "python",
   "nbconvert_exporter": "python",
   "pygments_lexer": "ipython3",
   "version": "3.7.7"
  },
  "nteract": {
   "version": "0.2.0"
  }
 },
 "nbformat": 4,
 "nbformat_minor": 4
}
