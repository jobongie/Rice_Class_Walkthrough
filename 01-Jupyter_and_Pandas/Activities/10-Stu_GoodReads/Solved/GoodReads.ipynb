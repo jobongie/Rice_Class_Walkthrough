{
 "cells": [
  {
   "cell_type": "markdown",
   "metadata": {},
   "source": [
    "# GoodReads\n",
    "\n",
    "### Instructions\n",
    "\n",
    "* Read in the GoodReads CSV using Pandas\n",
    "\n",
    "* Remove unnecessary columns from the DataFrame so that only the following columns remain: `isbn`, `original_publication_year`, `original_title`, `authors`, `ratings_1`, `ratings_2`, `ratings_3`, `ratings_4`, and `ratings_5`\n",
    "\n",
    "* Rename the columns to the following: `ISBN`, `Publication Year`, `Original Title`, `Authors`, `One Star Reviews`, `Two Star Reviews`, `Three Star Reviews`, `Four Star Reviews`, and `Five Star Reviews`\n",
    "\n",
    "* Write the DataFrame into a new CSV file\n",
    "\n",
    "### Hints\n",
    "\n",
    "* The base CSV file uses UTF-8 encoding. Trying to read in the file using some other kind of encoding could lead to strange characters appearing within the dataset.\n"
   ]
  },
  {
   "cell_type": "markdown",
   "metadata": {},
   "source": [
    "#### Import Dependencies"
   ]
  },
  {
   "cell_type": "code",
   "execution_count": null,
   "metadata": {},
   "outputs": [],
   "source": [
    "import pandas as pd\n",
    "import os"
   ]
  },
  {
   "cell_type": "markdown",
   "metadata": {},
   "source": [
    "#### Import the books.csv file as a DataFrame\n",
    "\n",
    "First, make a reference variable to point to the location of `books.csv`"
   ]
  },
  {
   "cell_type": "code",
   "execution_count": null,
   "metadata": {},
   "outputs": [],
   "source": [
    "# Make a reference to the books.csv file path\n",
    "csv_path = os.path.join(\"Resources\", \"books.csv\")\n",
    "\n",
    "# Import the books.csv file as a DataFrame\n",
    "books_df = pd.read_csv(csv_path, encoding=\"utf-8\")\n",
    "books_df.head()"
   ]
  },
  {
   "cell_type": "markdown",
   "metadata": {},
   "source": [
    "#### Remove unecessary columns from the DataFrame and save the new DataFrame\n",
    "\n",
    "Only keep: *isbn*, *original_publication_year*, *original_title*, *authors*, *ratings_1*, *ratings_2*, *ratings_3*, *ratings_4*, *ratings_5*"
   ]
  },
  {
   "cell_type": "code",
   "execution_count": null,
   "metadata": {},
   "outputs": [],
   "source": [
    "reduced_df = books_df[[\"isbn\", \"original_publication_year\", \"original_title\", \"authors\",\n",
    "                       \"ratings_1\", \"ratings_2\", \"ratings_3\", \"ratings_4\", \"ratings_5\"]]\n",
    "reduced_df.head()"
   ]
  },
  {
   "cell_type": "markdown",
   "metadata": {},
   "source": [
    "#### Rename the headers to be more explanatory"
   ]
  },
  {
   "cell_type": "code",
   "execution_count": null,
   "metadata": {},
   "outputs": [],
   "source": [
    "renamed_df = reduced_df.rename(columns={\"isbn\": \"ISBN\",\n",
    "                                        \"original_title\": \"Original Title\",\n",
    "                                        \"original_publication_year\": \"Publication Year\",\n",
    "                                        \"authors\": \"Authors\",\n",
    "                                        \"ratings_1\": \"One Star Reviews\",\n",
    "                                        \"ratings_2\": \"Two Star Reviews\",\n",
    "                                        \"ratings_3\": \"Three Star Reviews\",\n",
    "                                        \"ratings_4\": \"Four Star Reviews\",\n",
    "                                        \"ratings_5\": \"Five Star Reviews\", })\n",
    "renamed_df.head()"
   ]
  },
  {
   "cell_type": "markdown",
   "metadata": {},
   "source": [
    "#### Push the remade DataFrame to a new CSV file"
   ]
  },
  {
   "cell_type": "code",
   "execution_count": null,
   "metadata": {},
   "outputs": [],
   "source": [
    "output_file = os.path.join(\"Output\", \"books_clean.csv\")\n",
    "renamed_df.to_csv(output_file, encoding=\"utf-8\", index=False, header=True)"
   ]
  }
 ],
 "metadata": {
  "kernelspec": {
   "display_name": "RiceData2020",
   "language": "python",
   "name": "ricedata2020"
  },
  "language_info": {
   "codemirror_mode": {
    "name": "ipython",
    "version": 3
   },
   "file_extension": ".py",
   "mimetype": "text/x-python",
   "name": "python",
   "nbconvert_exporter": "python",
   "pygments_lexer": "ipython3",
   "version": "3.6.10"
  },
  "nteract": {
   "version": "0.11.9"
  }
 },
 "nbformat": 4,
 "nbformat_minor": 2
}
