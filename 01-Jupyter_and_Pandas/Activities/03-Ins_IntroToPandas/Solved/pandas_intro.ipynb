{
 "cells": [
  {
   "cell_type": "markdown",
   "metadata": {},
   "source": [
    "# Pandas Introduction\n",
    "\n",
    "[**Pandas**](https://towardsdatascience.com/a-quick-introduction-to-the-pandas-python-library-f1b678f34673) is an open-source python library that provides intuitive data structures and functions that simplify data manipulation and exploration. Pandas is one of the most widely used python libraries due to its similarity to common structures like spreadsheets, along with the simplicity of quick data wrangling & analysis when compared to other structures such as lists and dictionaries.\n"
   ]
  },
  {
   "cell_type": "markdown",
   "metadata": {},
   "source": [
    "#### Import dependencies\n",
    "\n",
    "You will likely need to install Pandas before using this notebook. To do this, run `pip install pandas` from your command line."
   ]
  },
  {
   "cell_type": "code",
   "execution_count": 1,
   "metadata": {},
   "outputs": [],
   "source": [
    "import pandas as pd"
   ]
  },
  {
   "cell_type": "markdown",
   "metadata": {},
   "source": [
    "## DataFrames\n",
    "\n",
    "A [Pandas DataFrame](https://www.geeksforgeeks.org/python-pandas-dataframe/) is a 2-dimensional tabular data structure with labeled columns and indexed rows. A DataFrame is one of the most widely used data structures due to its similarity to common structures like spreadsheets and its rich functionality for exploration and manipulation.\n",
    "\n",
    "##### [Pandas DataFrame documentation](https://pandas.pydata.org/pandas-docs/stable/reference/api/pandas.DataFrame.html)\n",
    "\n",
    "#### Create a dataframe using a list of dictionaries"
   ]
  },
  {
   "cell_type": "code",
   "execution_count": 8,
   "metadata": {},
   "outputs": [
    {
     "data": {
      "text/html": [
       "<div>\n",
       "<style scoped>\n",
       "    .dataframe tbody tr th:only-of-type {\n",
       "        vertical-align: middle;\n",
       "    }\n",
       "\n",
       "    .dataframe tbody tr th {\n",
       "        vertical-align: top;\n",
       "    }\n",
       "\n",
       "    .dataframe thead th {\n",
       "        text-align: right;\n",
       "    }\n",
       "</style>\n",
       "<table border=\"1\" class=\"dataframe\">\n",
       "  <thead>\n",
       "    <tr style=\"text-align: right;\">\n",
       "      <th></th>\n",
       "      <th>Frame</th>\n",
       "      <th>Price</th>\n",
       "      <th>Sales</th>\n",
       "    </tr>\n",
       "  </thead>\n",
       "  <tbody>\n",
       "    <tr>\n",
       "      <th>0</th>\n",
       "      <td>Ornate</td>\n",
       "      <td>15.0</td>\n",
       "      <td>100</td>\n",
       "    </tr>\n",
       "    <tr>\n",
       "      <th>1</th>\n",
       "      <td>Classical</td>\n",
       "      <td>12.5</td>\n",
       "      <td>200</td>\n",
       "    </tr>\n",
       "    <tr>\n",
       "      <th>2</th>\n",
       "      <td>Modern</td>\n",
       "      <td>10.0</td>\n",
       "      <td>150</td>\n",
       "    </tr>\n",
       "    <tr>\n",
       "      <th>3</th>\n",
       "      <td>Wood</td>\n",
       "      <td>5.0</td>\n",
       "      <td>300</td>\n",
       "    </tr>\n",
       "    <tr>\n",
       "      <th>4</th>\n",
       "      <td>Cardboard</td>\n",
       "      <td>1.0</td>\n",
       "      <td>N/A</td>\n",
       "    </tr>\n",
       "  </tbody>\n",
       "</table>\n",
       "</div>"
      ],
      "text/plain": [
       "       Frame  Price Sales\n",
       "0     Ornate   15.0   100\n",
       "1  Classical   12.5   200\n",
       "2     Modern   10.0   150\n",
       "3       Wood    5.0   300\n",
       "4  Cardboard    1.0   N/A"
      ]
     },
     "execution_count": 8,
     "metadata": {},
     "output_type": "execute_result"
    }
   ],
   "source": [
    "frames = {\"Frame\":[\"Ornate\", \"Classical\", \"Modern\",\"Wood\", \"Cardboard\"],\n",
    "          \"Price\":[15,12.5,10,5,1],\n",
    "          \"Sales\":[100,200,150,300,\"N/A\"]}\n",
    "\n",
    "df = pd.DataFrame(frames)\n",
    "df"
   ]
  },
  {
   "cell_type": "markdown",
   "metadata": {},
   "source": [
    "#### Create a dataframe from a single dictionary that contains lists for values"
   ]
  },
  {
   "cell_type": "code",
   "execution_count": 4,
   "metadata": {},
   "outputs": [
    {
     "data": {
      "text/html": [
       "<div>\n",
       "<style scoped>\n",
       "    .dataframe tbody tr th:only-of-type {\n",
       "        vertical-align: middle;\n",
       "    }\n",
       "\n",
       "    .dataframe tbody tr th {\n",
       "        vertical-align: top;\n",
       "    }\n",
       "\n",
       "    .dataframe thead th {\n",
       "        text-align: right;\n",
       "    }\n",
       "</style>\n",
       "<table border=\"1\" class=\"dataframe\">\n",
       "  <thead>\n",
       "    <tr style=\"text-align: right;\">\n",
       "      <th></th>\n",
       "      <th>STATE</th>\n",
       "      <th>ABBREVIATION</th>\n",
       "    </tr>\n",
       "  </thead>\n",
       "  <tbody>\n",
       "    <tr>\n",
       "      <th>0</th>\n",
       "      <td>New Jersey</td>\n",
       "      <td>NJ</td>\n",
       "    </tr>\n",
       "    <tr>\n",
       "      <th>1</th>\n",
       "      <td>New York</td>\n",
       "      <td>NY</td>\n",
       "    </tr>\n",
       "  </tbody>\n",
       "</table>\n",
       "</div>"
      ],
      "text/plain": [
       "        STATE ABBREVIATION\n",
       "0  New Jersey           NJ\n",
       "1    New York           NY"
      ]
     },
     "execution_count": 4,
     "metadata": {},
     "output_type": "execute_result"
    }
   ],
   "source": [
    "values = "
   ]
  },
  {
   "cell_type": "markdown",
   "metadata": {},
   "source": [
    "## Series\n",
    "\n",
    "A [Pandas Series](https://www.geeksforgeeks.org/python-pandas-series/) is a one-dimensional labeled array of content that can leverage most of the same manipulation functions that can be executed against a DataFrame. A Series is essentially just a 1 column dataframe, or it can be equated to a single column of data within an Excel spreadsheet.\n",
    "\n",
    "##### [Pandas Series Documentation](https://pandas.pydata.org/pandas-docs/stable/reference/api/pandas.Series.html)\n",
    "\n",
    "#### Create a Pandas Series from a raw list"
   ]
  },
  {
   "cell_type": "code",
   "execution_count": 5,
   "metadata": {},
   "outputs": [
    {
     "data": {
      "text/plain": [
       "0                             UCLA\n",
       "1                      UC Berkeley\n",
       "2                        UC Irvine\n",
       "3    University of Central Florida\n",
       "4               Rutgers University\n",
       "dtype: object"
      ]
     },
     "execution_count": 5,
     "metadata": {},
     "output_type": "execute_result"
    }
   ],
   "source": [
    "data_series = pd.Series([\"UCLA\", \"UC Berkeley\", \"UC Irvine\", \"University of Central Florida\", \"Rutgers University\"])\n",
    "data_series"
   ]
  },
  {
   "cell_type": "code",
   "execution_count": null,
   "metadata": {},
   "outputs": [],
   "source": []
  }
 ],
 "metadata": {
  "anaconda-cloud": {},
  "kernel_info": {
   "name": "python3"
  },
  "kernelspec": {
   "display_name": "Python 3",
   "language": "python",
   "name": "python3"
  },
  "language_info": {
   "codemirror_mode": {
    "name": "ipython",
    "version": 3
   },
   "file_extension": ".py",
   "mimetype": "text/x-python",
   "name": "python",
   "nbconvert_exporter": "python",
   "pygments_lexer": "ipython3",
   "version": "3.7.7"
  },
  "nteract": {
   "version": "0.2.0"
  }
 },
 "nbformat": 4,
 "nbformat_minor": 2
}
