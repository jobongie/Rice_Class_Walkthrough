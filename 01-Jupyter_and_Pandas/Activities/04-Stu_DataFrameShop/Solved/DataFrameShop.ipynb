{
 "cells": [
  {
   "cell_type": "markdown",
   "metadata": {},
   "source": [
    "# Data-Frame Shop\n",
    "\n",
    "### Instructions\n",
    "\n",
    "1. Create a DataFrame for a frame shop that contains **3 columns** (*Frame*, *Price*, and *Sales*) and has **5 rows** of data stored within it.\n",
    "\n",
    "2. Use an alternate method than before to create a DataFrame for an art gallery that contains **3 columns** (*Painting*, *Price*, and *Popularity*) and has **4 rows** of data stored within it.\n"
   ]
  },
  {
   "cell_type": "markdown",
   "metadata": {},
   "source": [
    "#### Import Dependencies"
   ]
  },
  {
   "cell_type": "code",
   "execution_count": null,
   "metadata": {
    "collapsed": true
   },
   "outputs": [],
   "source": [
    "import pandas as pd"
   ]
  },
  {
   "cell_type": "markdown",
   "metadata": {},
   "source": [
    "#### Create a DataFrame with 3 columns (*Frame*, *Price*, and *Sales*) and 5 rows of data"
   ]
  },
  {
   "cell_type": "code",
   "execution_count": null,
   "metadata": {},
   "outputs": [],
   "source": [
    "# Create a DataFrame of frames using a dictionary of lists\n",
    "frame_df = pd.DataFrame({\n",
    "    \"Frame\": [\"Ornate\", \"Classical\", \"Modern\", \"Wood\", \"Cardboard\"],\n",
    "    \"Price\": [15.00, 12.50, 10.00, 5.00, 1.00],\n",
    "    \"Sales\": [100, 200, 150, 300, \"N/A\"]\n",
    "})\n",
    "frame_df"
   ]
  },
  {
   "cell_type": "markdown",
   "metadata": {},
   "source": [
    "#### Create a DataFrame with 3 columns (*Painting*, *Price*, and *Popularity*) and 4 rows of data\n",
    "\n",
    "Use an alternate method to create the DataFrame than you used above."
   ]
  },
  {
   "cell_type": "code",
   "execution_count": null,
   "metadata": {},
   "outputs": [],
   "source": [
    "# Create a DataFrame of paintings using a list of dictionaries\n",
    "painting_df = pd.DataFrame([\n",
    "    {\"Painting\": \"Mona Lisa (Knockoff)\", \"Price\": 25, \"Popularity\": \"Very Popular\"},\n",
    "    {\"Painting\": \"Van Gogh (Knockoff)\", \"Price\": 20, \"Popularity\": \"Popular\"},\n",
    "    {\"Painting\": \"Starving Artist\", \"Price\": 10, \"Popularity\": \"Average\"},\n",
    "    {\"Painting\": \"Toddler Drawing\", \"Price\": 1, \"Popularity\": \"Not Popular\"}\n",
    "])\n",
    "painting_df"
   ]
  }
 ],
 "metadata": {
  "kernelspec": {
   "display_name": "RiceData2020",
   "language": "python",
   "name": "ricedata2020"
  },
  "language_info": {
   "codemirror_mode": {
    "name": "ipython",
    "version": 3
   },
   "file_extension": ".py",
   "mimetype": "text/x-python",
   "name": "python",
   "nbconvert_exporter": "python",
   "pygments_lexer": "ipython3",
   "version": "3.6.10"
  }
 },
 "nbformat": 4,
 "nbformat_minor": 2
}
